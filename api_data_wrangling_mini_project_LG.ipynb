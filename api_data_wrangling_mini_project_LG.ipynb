{
 "cells": [
  {
   "cell_type": "markdown",
   "metadata": {},
   "source": [
    "This exercise will require you to pull some data from the Qunadl API. Qaundl is currently the most widely used aggregator of financial market data."
   ]
  },
  {
   "cell_type": "markdown",
   "metadata": {},
   "source": [
    "As a first step, you will need to register a free account on the http://www.quandl.com website."
   ]
  },
  {
   "cell_type": "markdown",
   "metadata": {},
   "source": [
    "After you register, you will be provided with a unique API key, that you should store:"
   ]
  },
  {
   "cell_type": "code",
   "execution_count": 27,
   "metadata": {
    "collapsed": true
   },
   "outputs": [],
   "source": [
    "# Store the API key as a string - according to PEP8, constants are always named in all upper case\n",
    "API_KEY = '****'"
   ]
  },
  {
   "cell_type": "markdown",
   "metadata": {},
   "source": [
    "Qaundl has a large number of data sources, but, unfortunately, most of them require a Premium subscription. Still, there are also a good number of free datasets."
   ]
  },
  {
   "cell_type": "markdown",
   "metadata": {},
   "source": [
    "For this mini project, we will focus on equities data from the Frankfurt Stock Exhange (FSE), which is available for free. We'll try and analyze the stock prices of a company called Carl Zeiss Meditec, which manufactures tools for eye examinations, as well as medical lasers for laser eye surgery: https://www.zeiss.com/meditec/int/home.html. The company is listed under the stock ticker AFX_X."
   ]
  },
  {
   "cell_type": "markdown",
   "metadata": {},
   "source": [
    "You can find the detailed Quandl API instructions here: https://docs.quandl.com/docs/time-series"
   ]
  },
  {
   "cell_type": "markdown",
   "metadata": {},
   "source": [
    "While there is a dedicated Python package for connecting to the Quandl API, we would prefer that you use the *requests* package, which can be easily downloaded using *pip* or *conda*. You can find the documentation for the package here: http://docs.python-requests.org/en/master/ "
   ]
  },
  {
   "cell_type": "markdown",
   "metadata": {},
   "source": [
    "Finally, apart from the *requests* package, you are encouraged to not use any third party Python packages, such as *pandas*, and instead focus on what's available in the Python Standard Library (the *collections* module might come in handy: https://pymotw.com/3/collections/ ).\n",
    "Also, since you won't have access to DataFrames, you are encouraged to us Python's native data structures - preferably dictionaries, though some questions can also be answered using lists.\n",
    "You can read more on these data structures here: https://docs.python.org/3/tutorial/datastructures.html"
   ]
  },
  {
   "cell_type": "markdown",
   "metadata": {},
   "source": [
    "Keep in mind that the JSON responses you will be getting from the API map almost one-to-one to Python's dictionaries. Unfortunately, they can be very nested, so make sure you read up on indexing dictionaries in the documentation provided above."
   ]
  },
  {
   "cell_type": "code",
   "execution_count": 84,
   "metadata": {
    "collapsed": true
   },
   "outputs": [],
   "source": [
    "# First, import the relevant modules\n",
    "import json\n",
    "import requests\n",
    "import numpy as np \n",
    "# import collections"
   ]
  },
  {
   "cell_type": "code",
   "execution_count": 85,
   "metadata": {
    "collapsed": true
   },
   "outputs": [],
   "source": [
    "# Now, call the Quandl API and pull out a small sample of the data (only one day) to get a glimpse\n",
    "# into the JSON structure that will be returned\n",
    "afx_x = requests.get(\"https://www.quandl.com/api/v3/datasets/FSE/AFX_X/data.json?start_date=2020-04-01&end_date=2020-04-02&api_key=CvCypzbAtxQ8Uy9YKf8y\")\n",
    "afx_x_json = afx_x.json()"
   ]
  },
  {
   "cell_type": "code",
   "execution_count": 86,
   "metadata": {
    "collapsed": true
   },
   "outputs": [
    {
     "name": "stdout",
     "output_type": "stream",
     "text": [
      "{'dataset_data': {'limit': None, 'transform': None, 'column_index': None, 'column_names': ['Date', 'Open', 'High', 'Low', 'Close', 'Change', 'Traded Volume', 'Turnover', 'Last Price of the Day', 'Daily Traded Units', 'Daily Turnover'], 'start_date': '2020-04-01', 'end_date': '2020-04-02', 'frequency': 'daily', 'data': [['2020-04-02', 86.0, 87.15, 79.5, 82.5, None, 300359.0, 24916457.15, None, None, None], ['2020-04-01', 86.5, 86.9, 85.0, 86.1, None, 192187.0, 16541381.35, None, None, None]], 'collapse': None, 'order': None}}\n"
     ]
    }
   ],
   "source": [
    "# Inspect the JSON structure of the object you created, and take note of how nested it is,\n",
    "# as well as the overall structure\n",
    "print(afx_x_json)"
   ]
  },
  {
   "cell_type": "code",
   "execution_count": null,
   "metadata": {},
   "outputs": [],
   "source": []
  },
  {
   "cell_type": "markdown",
   "metadata": {},
   "source": [
    "These are your tasks for this mini project:\n",
    "\n",
    "1. Collect data from the Franfurt Stock Exchange, for the ticker AFX_X, for the whole year 2017 (keep in mind that the date format is YYYY-MM-DD).\n",
    "2. Convert the returned JSON object into a Python dictionary.\n",
    "3. Calculate what the highest and lowest opening prices were for the stock in this period.\n",
    "4. What was the largest change in any one day (based on High and Low price)?\n",
    "5. What was the largest change between any two days (based on Closing Price)?\n",
    "6. What was the average daily trading volume during this year?\n",
    "7. (Optional) What was the median trading volume during this year. (Note: you may need to implement your own function for calculating the median.)"
   ]
  },
  {
   "cell_type": "code",
   "execution_count": 115,
   "metadata": {
    "collapsed": true
   },
   "outputs": [],
   "source": [
    "# 1. Collect data from the Franfurt Stock Exchange, for the ticker AFX_X, for the whole year 2017.\n",
    "afx_x_2017 = requests.get(\"https://www.quandl.com/api/v3/datasets/FSE/AFX_X/data.json?start_date=2017-01-01&end_date=2017-12-31&api_key=CvCypzbAtxQ8Uy9YKf8y\")\n"
   ]
  },
  {
   "cell_type": "code",
   "execution_count": 116,
   "metadata": {},
   "outputs": [
    {
     "name": "stdout",
     "output_type": "stream",
     "text": [
      "Primary object type: <class 'dict'>\n",
      "Primary object keys: dict_keys(['dataset_data'])\n",
      "'dataset_data' keys: dict_keys(['limit', 'transform', 'column_index', 'column_names', 'start_date', 'end_date', 'frequency', 'data', 'collapse', 'order'])\n",
      "data object type: <class 'list'>\n",
      "Print type of first element in the list with data: <class 'list'>\n",
      "Print first element in the list with data: ['2017-12-29', 51.76, 51.94, 51.45, 51.76, None, 34640.0, 1792304.0, None, None, None]\n",
      "column_index: None\n",
      "column_names: ['Date', 'Open', 'High', 'Low', 'Close', 'Change', 'Traded Volume', 'Turnover', 'Last Price of the Day', 'Daily Traded Units', 'Daily Turnover']\n"
     ]
    }
   ],
   "source": [
    "# 2. Convert the returned JSON object into a Python dictionary.\n",
    "afx_x_2017dd = afx_x_2017.json()\n",
    "print(\"Primary object type:\",type(afx_x_2017dd))\n",
    "print(\"Primary object keys:\",afx_x_2017dd.keys())\n",
    "\n",
    "# The dictionary has multiple levels levels - we extract the data in dictionary format also.\n",
    "print(\"'dataset_data' keys:\",afx_x_2017dd['dataset_data'].keys())\n",
    "print(\"data object type:\",type(afx_x_2017dd['dataset_data']['data']))\n",
    "# The data is stored as a list of lists, with the second list containing one day of data\n",
    "print(\"Print type of first element in the list with data:\", type(afx_x_2017dd['dataset_data']['data'][0]))\n",
    "print(\"Print first element in the list with data:\", afx_x_2017dd['dataset_data']['data'][0])\n",
    "\n",
    "# Look at column_index and column_names\n",
    "print(\"column_index:\",afx_x_2017dd['dataset_data']['column_index'])\n",
    "print(\"column_names:\",afx_x_2017dd['dataset_data']['column_names'])\n"
   ]
  },
  {
   "cell_type": "code",
   "execution_count": 170,
   "metadata": {},
   "outputs": [],
   "source": [
    "n = len(afx_x_2017dd['dataset_data']['data'])\n",
    "afx_x_open = np.empty(n)\n",
    "afx_x_high = np.empty(n)\n",
    "afx_x_low = np.empty(n)\n",
    "afx_x_cls = np.empty(n)\n",
    "afx_x_chg = np.empty(n)\n",
    "afx_x_vol = np.empty(n)\n",
    "for i in range(n):\n",
    "    afx_x_open[i] = afx_x_2017dd['dataset_data']['data'][i][1]\n",
    "    afx_x_high[i] = afx_x_2017dd['dataset_data']['data'][i][2]\n",
    "    afx_x_low[i] = afx_x_2017dd['dataset_data']['data'][i][3]\n",
    "    afx_x_cls[i] = afx_x_2017dd['dataset_data']['data'][i][4]\n",
    "    afx_x_chg[i] = afx_x_2017dd['dataset_data']['data'][i][5]\n",
    "    afx_x_vol[i] = afx_x_2017dd['dataset_data']['data'][i][6]"
   ]
  },
  {
   "cell_type": "code",
   "execution_count": 199,
   "metadata": {},
   "outputs": [
    {
     "name": "stdout",
     "output_type": "stream",
     "text": [
      "Highest opening AFX_X stock price in 2017: $53.11\n",
      "Lowest opening AFX_X stock price in 2017: $34.00\n"
     ]
    }
   ],
   "source": [
    "# 3. Calculate what the highest and lowest opening prices were for the stock in this period.\n",
    "print(\"Highest opening AFX_X stock price in 2017: $%5.2f\"% np.nanmax(afx_x_open))\n",
    "print(\"Lowest opening AFX_X stock price in 2017: $%5.2f\"% np.nanmin(afx_x_open))"
   ]
  },
  {
   "cell_type": "code",
   "execution_count": 208,
   "metadata": {},
   "outputs": [
    {
     "name": "stdout",
     "output_type": "stream",
     "text": [
      "Largest change in any one day price for AFX_X stock in 2017:  6.50 percent\n"
     ]
    }
   ],
   "source": [
    "# 4. Calculate the largest change in any one day (based on High and Low price)\n",
    "daily_chg = (afx_x_high/afx_x_low-1)*100\n",
    "print(\"Largest change in any one day price for AFX_X stock in 2017: %5.2f percent\"% round(np.nanmax(day_chg),2))"
   ]
  },
  {
   "cell_type": "code",
   "execution_count": 210,
   "metadata": {},
   "outputs": [
    {
     "name": "stdout",
     "output_type": "stream",
     "text": [
      "Largest change in closing price for AFX_X stock between two days in 2017:  6.12 percent\n"
     ]
    }
   ],
   "source": [
    "# 5. Calculate the largest change between any two days (based on Closing Price)\n",
    "nxt_day_chg = (afx_x_cls[1:]/afx_x_cls[:len(afx_x_cls)-1]-1)*100\n",
    "print(\"Largest change in closing price for AFX_X stock between two days in 2017: %5.2f percent\"% round(np.nanmax(nxt_day_chg),2))"
   ]
  },
  {
   "cell_type": "code",
   "execution_count": 186,
   "metadata": {},
   "outputs": [
    {
     "name": "stdout",
     "output_type": "stream",
     "text": [
      "Average daily trading volume for AFX_X stock in 2017: 89124.34\n"
     ]
    }
   ],
   "source": [
    "# 6. Calculate the average daily trading volume during this year\n",
    "print(\"Average of daily trading volume for AFX_X stock in 2017:\",round(np.mean(afx_x_vol),2))"
   ]
  },
  {
   "cell_type": "code",
   "execution_count": 212,
   "metadata": {},
   "outputs": [
    {
     "name": "stdout",
     "output_type": "stream",
     "text": [
      "Median of daily trading volume for AFX_X stock in 2017: 76286.00\n"
     ]
    }
   ],
   "source": [
    "# 7. Calculate the median trading volume during this year\n",
    "# Length of volume series is odd, so we take the mid point after sorting\n",
    "midpt = int((len(afx_x_vol)+1)/2-1)\n",
    "print(\"Median of daily trading volume for AFX_X stock in 2017: %5.2f\"% np.sort(afx_x_vol)[midpt])\n"
   ]
  },
  {
   "cell_type": "code",
   "execution_count": null,
   "metadata": {},
   "outputs": [],
   "source": []
  }
 ],
 "metadata": {
  "kernelspec": {
   "display_name": "Python 3",
   "language": "python",
   "name": "python3"
  },
  "language_info": {
   "codemirror_mode": {
    "name": "ipython",
    "version": 3
   },
   "file_extension": ".py",
   "mimetype": "text/x-python",
   "name": "python",
   "nbconvert_exporter": "python",
   "pygments_lexer": "ipython3",
   "version": "3.7.3"
  }
 },
 "nbformat": 4,
 "nbformat_minor": 2
}
