{
 "cells": [
  {
   "cell_type": "markdown",
   "metadata": {},
   "source": [
    "# Capstone Project I\n",
    "# Individual Health Insurance Market Place"
   ]
  },
  {
   "cell_type": "code",
   "execution_count": 1,
   "metadata": {},
   "outputs": [],
   "source": [
    "# Import libraries \n",
    "import pandas as pd\n",
    "import numpy as np\n",
    "from collections import Counter\n",
    "from collections import defaultdict\n",
    "import seaborn as sns\n",
    "import matplotlib.pyplot as plt\n",
    "#import sys\n",
    "#import matplotlib\n",
    "pd.set_option('display.max_rows', None)\n",
    "pd.set_option('display.max_columns', None)\n",
    "pd.set_option('display.width', 150)"
   ]
  },
  {
   "cell_type": "markdown",
   "metadata": {},
   "source": [
    "## Read FIPS Population, Median Income, Unemployment and Health Insurance Marketplace Enrollees in 2017"
   ]
  },
  {
   "cell_type": "markdown",
   "metadata": {},
   "source": [
    "We use the Area Health Resource File (AHRF) downloaded from the Health Resource and Services Administration website. The file combines health and other socioeconomic data sources on specific geographic areas in the US. I downloaded the set of files with measures at the County level.\n",
    "\n",
    "The data file used here was directly downloaded from the HRSA website (AHRF2019.asc). The data dictionary was created using the SAS program provided to read the ASCII file. See program AHRF_Dictionary.ipynb.\n",
    "Source: https://data.hrsa.gov/data/download - Area Health Resources Files (AHRF) 2018-2019. US Department of Health and Human Services, Health Resources and Services Administration, Bureau of Health Workforce, Rockville, MD."
   ]
  },
  {
   "cell_type": "code",
   "execution_count": 2,
   "metadata": {},
   "outputs": [],
   "source": [
    "# Set paths and file names\n",
    "datapath='C:\\\\Users\\\\l_gas\\\\Documents\\\\Development\\\\SpringBoard_DataScience\\\\HealthInsuranceData'\n",
    "data2019= datapath + \"\\\\AHRF\\\\AHRF_2018-2019\\\\DATA\\\\AHRF2019.asc\""
   ]
  },
  {
   "cell_type": "code",
   "execution_count": 3,
   "metadata": {},
   "outputs": [
    {
     "name": "stdout",
     "output_type": "stream",
     "text": [
      "      Pos_Start      Name  String  Pos_End                                              Label\n",
      "1             2    f00002    True      6.0                      Header - FIPS St and Cty Code\n",
      "7            46    f00008    True     64.0                                         State Name\n",
      "8            65    f12424    True     66.0                            State Name Abbreviation\n",
      "11          122    f00011    True    123.0                                    FIPS State Code\n",
      "12          124    f00012    True    126.0                                   FIPS County Code\n",
      "19          167  f1389118    True    171.0  Core Based Stat Area Code(CBSA) Metropolitan/M...\n",
      "20          172  f1389218    True    221.0  Core Based Stat Area Name(CBSA) Metropolitan/M...\n",
      "21          222  f1406718    True    222.0  CBSA Indicator Code 0 = Not, 1 = Metro, 2 = Mi...\n",
      "22          223  f1419518    True    230.0        CBSA County Status Central or Outlying 2018\n",
      "3413      11456  f0886817   False  11458.0                        Total Number Hospitals 2017\n",
      "4508      16425  f1198417   False  16432.0                           Population Estimate 2017\n",
      "5695      23195  f1322617   False  23200.0                       Median Household Income 2017\n",
      "6550      28406  f1544917   False  28411.0                Hlth Ins Marketplace Enrollees 2017\n",
      "6976      30881  f0679517   False  30883.0                        Unemployment Rate, 16+ 2017\n"
     ]
    }
   ],
   "source": [
    "# Import Area Research File data - Median household income (2017), Health insurance market place enrollees (2017)\n",
    "# Identify variables\n",
    "ahrfdata = pd.read_csv('AHRF2019_dict.csv',index_col=0)\n",
    "var_selection = ahrfdata[(ahrfdata.Label.str.contains(\"FIPS\")) | (ahrfdata.Label.str.contains(\"CBSA\")) | (ahrfdata.Name == \"f12424\") | \n",
    "                         (ahrfdata.Name == \"f00008\") | (ahrfdata.Label == \"Median Household Income 2017\") | \n",
    "                         (ahrfdata.Label == \"Hlth Ins Marketplace Enrollees 2017\") | (ahrfdata.Label == \"Unemployment Rate, 16+ 2017\") | \n",
    "                         (ahrfdata.Label == \"Population Estimate 2017\") | (ahrfdata.Label == \"Total Number Hospitals 2017\")] \n",
    "position = [(var_selection.iloc[i,0]-1,int(var_selection.iloc[i,3])) for i in range(len(var_selection))]\n",
    "print(var_selection)\n",
    "\n",
    "# Import selected columns\n",
    "area_char = pd.read_fwf(data2019,colspecs = position, header=None)\n",
    "area_char.columns = ['fips', 'state', 'st','fips_st','fips_county', 'CBSA', 'CBSA_Name', 'CBSA_Ind', 'CBSA_Status','Num_Hosp2017','Pop2017','MedIncome2017','IndMarketEnroll2017','Unemployment']\n",
    "\n",
    "area_char['Num_Hosp2017'] = area_char['Num_Hosp2017'].apply(pd.to_numeric, errors='coerce')\n",
    "area_char['Pop2017'] = area_char['Pop2017'].apply(pd.to_numeric, errors='coerce')\n",
    "area_char['MedIncome2017'] = area_char['MedIncome2017'].apply(pd.to_numeric, errors='coerce')\n",
    "area_char['IndMarketEnroll2017'] = area_char['IndMarketEnroll2017'].apply(pd.to_numeric, errors='coerce')\n",
    "# Unemployment rate is in percentage form and has one decimal implied (see documentation)\n",
    "area_char['Unemployment'] = area_char['Unemployment'].apply(pd.to_numeric, errors='coerce')/10\n"
   ]
  },
  {
   "cell_type": "code",
   "execution_count": 4,
   "metadata": {},
   "outputs": [
    {
     "name": "stdout",
     "output_type": "stream",
     "text": [
      "Number of Lines in the area_char file:  3230\n",
      "Number of distinct FIPS code entries in the area_char file:  3230\n",
      "Descriptive Measures from the area_char file (includes ALL FIPS):\n",
      "               fips      fips_st  fips_county          CBSA     CBSA_Ind  Num_Hosp2017       Pop2017  MedIncome2017  IndMarketEnroll2017  \\\n",
      "count   3230.000000  3230.000000  3230.000000   1916.000000  3220.000000   3224.000000  3.221000e+03    3141.000000          2719.000000   \n",
      "mean   31423.921981    31.320743   103.178947  29872.829332     0.801242      1.947581  1.022116e+05   51090.529449          3384.237955   \n",
      "std    16380.125272    16.365500   107.218177  11561.589118     0.756210      4.120137  3.291528e+05   13497.965734         13418.161762   \n",
      "min     1001.000000     1.000000     1.000000  10100.000000     0.000000      0.000000  8.800000e+01   22679.000000             0.000000   \n",
      "25%    19029.500000    19.000000    35.000000  19340.000000     0.000000      1.000000  1.117300e+04   42275.000000           325.500000   \n",
      "50%    30026.000000    30.000000    79.000000  30270.000000     1.000000      1.000000  2.598100e+04   48885.000000           761.000000   \n",
      "75%    46114.000000    46.000000   133.000000  40060.000000     1.000000      2.000000  6.687800e+04   56696.000000          1981.500000   \n",
      "max    78030.000000    78.000000   840.000000  49820.000000     2.000000    103.000000  1.016351e+07  136191.000000        387848.000000   \n",
      "\n",
      "       Unemployment  \n",
      "count   3219.000000  \n",
      "mean       4.825194  \n",
      "std        2.185314  \n",
      "min        1.600000  \n",
      "25%        3.500000  \n",
      "50%        4.400000  \n",
      "75%        5.500000  \n",
      "max       20.100000  \n"
     ]
    }
   ],
   "source": [
    "## Check there are unique entries per each FIPS code - Print summary of dataframe with variable selection.\n",
    "\n",
    "print(\"Number of Lines in the area_char file: \",len(area_char))\n",
    "print(\"Number of distinct FIPS code entries in the area_char file: \",len(Counter(area_char['fips'])))\n",
    "print(\"Descriptive Measures from the area_char file (includes ALL FIPS):\")\n",
    "print(area_char.describe())\n"
   ]
  },
  {
   "cell_type": "markdown",
   "metadata": {},
   "source": [
    "## Read Health Insurance Individual Market Plans - Federal Mandated Markets"
   ]
  },
  {
   "cell_type": "markdown",
   "metadata": {},
   "source": [
    "The Centers for Medicare & Medicaid Services uploads health insurance plan information on all federally facilitated marketplace through the healthcare.gov website. For this project we use the 2018 QHP landscape data (https://www.healthcare.gov/health-plan-information-2018/).\n",
    "\n",
    "We import the Individual Market data for 2018 and combine with AHRF extracted data."
   ]
  },
  {
   "cell_type": "code",
   "execution_count": 5,
   "metadata": {},
   "outputs": [],
   "source": [
    "# Import Health Insurance Individual Market Plans data - Only columns relevant for the analysis are imported.\n",
    "\n",
    "plans_2018 = pd.read_csv(r'C:\\Users\\l_gas\\Documents\\Development\\SpringBoard_DataScience\\HealthInsuranceData\\IndivMarketPlans\\QHP_PY2018_Medi-_Indi-_Land.csv',\n",
    "                   low_memory=False, usecols=['State Code','FIPS County Code','County Name',\n",
    "                'Metal Level','Issuer Name','HIOS Issuer ID','Plan ID (Standard Component)','Plan Marketing Name','Plan Type',\n",
    "                'Standardized Plan Design','Rating Area','Child Only Offering','Source','Accreditation',\n",
    "                'Adult Dental ','Child Dental '])\n",
    "plans_2018 = plans_2018.rename(columns={\"State Code\": \"State\", \"FIPS County Code\": \"fips\", \"HIOS Issuer ID\": \"Issuer_ID\"})\n"
   ]
  },
  {
   "cell_type": "code",
   "execution_count": 6,
   "metadata": {},
   "outputs": [
    {
     "name": "stdout",
     "output_type": "stream",
     "text": [
      "  State  fips     County Name Metal Level                               Issuer Name  Issuer_ID Plan ID (Standard Component)  \\\n",
      "0    AK  2013  Aleutians East        Gold  Premera Blue Cross Blue Shield of Alaska      38344               38344AK0540003   \n",
      "1    AK  2013  Aleutians East      Silver  Premera Blue Cross Blue Shield of Alaska      38344               38344AK0540006   \n",
      "2    AK  2013  Aleutians East      Bronze  Premera Blue Cross Blue Shield of Alaska      38344               38344AK0540008   \n",
      "3    AK  2013  Aleutians East      Bronze  Premera Blue Cross Blue Shield of Alaska      38344               38344AK0540009   \n",
      "4    AK  2013  Aleutians East      Silver  Premera Blue Cross Blue Shield of Alaska      38344               38344AK0540010   \n",
      "\n",
      "                                 Plan Marketing Name Plan Type Standardized Plan Design    Rating Area          Child Only Offering Source  \\\n",
      "0        Premera Blue Cross Preferred Plus Gold 1500       PPO           Not Applicable  Rating Area 2  Allows Adult and Child-Only   HIOS   \n",
      "1      Premera Blue Cross Preferred Plus Silver 4500       PPO           Not Applicable  Rating Area 2  Allows Adult and Child-Only   HIOS   \n",
      "2      Premera Blue Cross Preferred Plus Bronze 6350       PPO           Not Applicable  Rating Area 2  Allows Adult and Child-Only   HIOS   \n",
      "3  Premera Blue Cross Preferred Plus Bronze 5250 HSA       PPO           Not Applicable  Rating Area 2  Allows Adult and Child-Only   HIOS   \n",
      "4  Premera Blue Cross Preferred Plus Silver 3000 HSA       PPO           Not Applicable  Rating Area 2  Allows Adult and Child-Only   HIOS   \n",
      "\n",
      "  Accreditation Adult Dental  Child Dental   \n",
      "0          NCQA           NaN             X  \n",
      "1          NCQA           NaN             X  \n",
      "2          NCQA           NaN             X  \n",
      "3          NCQA           NaN             X  \n",
      "4          NCQA           NaN             X  \n"
     ]
    }
   ],
   "source": [
    "print(plans_2018.head())"
   ]
  },
  {
   "cell_type": "markdown",
   "metadata": {},
   "source": [
    "#### Number of plans by Accreditation Flag"
   ]
  },
  {
   "cell_type": "code",
   "execution_count": 7,
   "metadata": {},
   "outputs": [
    {
     "name": "stdout",
     "output_type": "stream",
     "text": [
      "Number of Plans by Accreditation Flag               Plan ID (Standard Component)\n",
      "                                     count\n",
      "Accreditation                             \n",
      "NCQA                                 16235\n",
      "URAC                                  3092\n"
     ]
    }
   ],
   "source": [
    "accreditation = plans_2018.groupby('Accreditation')[['Plan ID (Standard Component)']].agg(['count'])\n",
    "print(\"Number of Plans by Accreditation Flag\", accreditation)\n"
   ]
  },
  {
   "cell_type": "markdown",
   "metadata": {},
   "source": [
    "#### Number of plans by Metal Level"
   ]
  },
  {
   "cell_type": "code",
   "execution_count": 8,
   "metadata": {},
   "outputs": [
    {
     "name": "stdout",
     "output_type": "stream",
     "text": [
      "Number of Plans by Metal Level                 Plan ID (Standard Component)\n",
      "                                       count\n",
      "Metal Level                                 \n",
      "Bronze                                  9211\n",
      "Catastrophic                            2819\n",
      "Expanded Bronze                         3008\n",
      "Gold                                    6847\n",
      "Platinum                                 564\n",
      "Silver                                 16899\n"
     ]
    }
   ],
   "source": [
    "metal_lvl = plans_2018.groupby('Metal Level')[['Plan ID (Standard Component)']].agg(['count'])\n",
    "print(\"Number of Plans by Metal Level\", metal_lvl)"
   ]
  },
  {
   "cell_type": "markdown",
   "metadata": {},
   "source": [
    "#### Group data by CBSA (FIPS) code"
   ]
  },
  {
   "cell_type": "code",
   "execution_count": 9,
   "metadata": {},
   "outputs": [],
   "source": [
    "# Generate Measures: number of plans offered and number of issuers.\n",
    "\n",
    "plan_cnt = plans_2018.groupby('fips')[['Plan ID (Standard Component)']].agg(['count'])\n",
    "plan_cnt.columns = ['count_plans']\n",
    "plan_inscnt = plans_2018.groupby('fips')[['Issuer_ID']].agg(['nunique'])\n",
    "plan_inscnt.columns = ['count_issuers']"
   ]
  },
  {
   "cell_type": "markdown",
   "metadata": {},
   "source": [
    "## Combine Plan Information and FIP Population Measures"
   ]
  },
  {
   "cell_type": "code",
   "execution_count": 10,
   "metadata": {},
   "outputs": [],
   "source": [
    "plans_ahrf = pd.merge(left=plan_cnt, right=plan_inscnt, left_on='fips', right_on='fips')\n",
    "plans_ahrf = pd.merge(left=plans_ahrf, right=area_char, left_on='fips', right_on='fips')"
   ]
  },
  {
   "cell_type": "code",
   "execution_count": 11,
   "metadata": {},
   "outputs": [
    {
     "name": "stdout",
     "output_type": "stream",
     "text": [
      "2722\n",
      "               fips  count_plans  count_issuers      fips_st  fips_county          CBSA     CBSA_Ind  Num_Hosp2017       Pop2017  MedIncome2017  \\\n",
      "count   2722.000000  2722.000000    2722.000000  2722.000000  2722.000000   1558.000000  2721.000000   2721.000000  2.721000e+03    2721.000000   \n",
      "mean   31350.903012    14.455547       1.710507    31.239897   111.005878  29464.891528     0.784638      1.802279  8.348002e+04   49720.981624   \n",
      "std    14970.806015    10.558827       1.004195    14.952237   112.759340  11401.271870     0.770265      3.652337  2.428415e+05   12610.015798   \n",
      "min     1001.000000     2.000000       1.000000     1.000000     1.000000  10100.000000     0.000000      0.000000  1.340000e+02   22679.000000   \n",
      "25%    19135.500000     7.000000       1.000000    19.000000    39.000000  19110.000000     0.000000      1.000000  1.058500e+04   41524.000000   \n",
      "50%    31016.000000    12.000000       1.000000    31.000000    85.000000  29180.000000     1.000000      1.000000  2.410200e+04   47727.000000   \n",
      "75%    46096.500000    18.000000       2.000000    46.000000   143.000000  38900.000000     1.000000      2.000000  6.085300e+04   55531.000000   \n",
      "max    56045.000000   119.000000       7.000000    56.000000   840.000000  49820.000000     2.000000     75.000000  5.211263e+06  136191.000000   \n",
      "\n",
      "       IndMarketEnroll2017  Unemployment  \n",
      "count          2718.000000   2721.000000  \n",
      "mean           3385.483076      4.642484  \n",
      "std           13420.473727      1.659348  \n",
      "min               0.000000      1.700000  \n",
      "25%             326.000000      3.600000  \n",
      "50%             761.500000      4.400000  \n",
      "75%            1982.250000      5.400000  \n",
      "max          387848.000000     20.100000  \n"
     ]
    }
   ],
   "source": [
    "print(len(plans_ahrf))\n",
    "print(plans_ahrf.describe())\n"
   ]
  },
  {
   "cell_type": "markdown",
   "metadata": {},
   "source": [
    "#### Add State Governor's Political Party Affiliation"
   ]
  },
  {
   "cell_type": "markdown",
   "metadata": {},
   "source": [
    "We identify the governor's political party at the beginning of 2018 for all fifty states. The data is stored in a csv file containing three columns: state code, governor's political affiliation at the begining of 2018, and an indicator of the individual insurance market being federally facilitated or managed by the state."
   ]
  },
  {
   "cell_type": "code",
   "execution_count": 12,
   "metadata": {},
   "outputs": [],
   "source": [
    "# Set paths and file name\n",
    "projpath='C:\\\\Users\\\\l_gas\\\\Documents\\\\Development\\\\SpringBoard_DataScience\\\\CapstoneProj1'\n",
    "stparty= projpath + \"\\\\All_States_Governors_Party.csv\"\n",
    "# Read csv file\n",
    "stparty_all = pd.read_csv(stparty)\n",
    "fed_stparty =stparty_all[stparty_all['Market_Reg']=='Federal']"
   ]
  },
  {
   "cell_type": "code",
   "execution_count": 13,
   "metadata": {},
   "outputs": [],
   "source": [
    "plans_data = pd.merge(left=plans_ahrf, right=fed_stparty, left_on='st', right_on='State Code')"
   ]
  },
  {
   "cell_type": "markdown",
   "metadata": {},
   "source": [
    "## Clean the Analytic File"
   ]
  },
  {
   "cell_type": "markdown",
   "metadata": {},
   "source": [
    "We look at the list of variables and their type in the final table. We also run a description of each numerical variable using the method 'describe'. There are four county areas with missing values under the individual Market Enrollment column, and one county with missing values under the 2017 Median Income, 2017 Population, and Unemployment columns accounting for a total of four counties with some missing values. Since this is a very small portion of the total number of observations (4/2722 or less than 0.15%), we exclude those four rows from the analysis.\n",
    "We don't observe any clear outliers in the file."
   ]
  },
  {
   "cell_type": "code",
   "execution_count": 17,
   "metadata": {},
   "outputs": [
    {
     "name": "stdout",
     "output_type": "stream",
     "text": [
      "<class 'pandas.core.frame.DataFrame'>\n",
      "RangeIndex: 2718 entries, 0 to 2717\n",
      "Data columns (total 19 columns):\n",
      "fips                   2718 non-null int64\n",
      "count_plans            2718 non-null int64\n",
      "count_issuers          2718 non-null int64\n",
      "state                  2718 non-null object\n",
      "st                     2718 non-null object\n",
      "fips_st                2718 non-null int64\n",
      "fips_county            2718 non-null int64\n",
      "CBSA                   1556 non-null float64\n",
      "CBSA_Name              1556 non-null object\n",
      "CBSA_Ind               2718 non-null float64\n",
      "CBSA_Status            1556 non-null object\n",
      "Num_Hosp2017           2718 non-null float64\n",
      "Pop2017                2718 non-null float64\n",
      "MedIncome2017          2718 non-null float64\n",
      "IndMarketEnroll2017    2718 non-null float64\n",
      "Unemployment           2718 non-null float64\n",
      "State Code             2718 non-null object\n",
      "Pparty                 2718 non-null object\n",
      "Market_Reg             2718 non-null object\n",
      "dtypes: float64(7), int64(5), object(7)\n",
      "memory usage: 403.6+ KB\n",
      "None\n",
      "               fips  count_plans  count_issuers      fips_st  fips_county          CBSA     CBSA_Ind  Num_Hosp2017       Pop2017  MedIncome2017  \\\n",
      "count   2718.000000  2718.000000    2718.000000  2718.000000  2718.000000   1556.000000  2718.000000   2718.000000  2.718000e+03    2718.000000   \n",
      "mean   31341.718543    14.461737       1.710817    31.231052   110.666299  29454.435090     0.784032      1.804268  8.356875e+04   49715.470935   \n",
      "std    14959.243238    10.564618       1.004719    14.940994   112.382540  11404.863815     0.769837      3.653862  2.429608e+05   12603.786716   \n",
      "min     1001.000000     2.000000       1.000000     1.000000     1.000000  10100.000000     0.000000      0.000000  2.960000e+02   22679.000000   \n",
      "25%    19135.500000     7.000000       1.000000    19.000000    39.000000  19100.000000     0.000000      1.000000  1.063225e+04   41527.500000   \n",
      "50%    31014.000000    12.000000       1.000000    31.000000    85.000000  29180.000000     1.000000      1.000000  2.414050e+04   47727.000000   \n",
      "75%    46092.500000    18.000000       2.000000    46.000000   143.000000  38900.000000     1.000000      2.000000  6.092350e+04   55520.250000   \n",
      "max    56045.000000   119.000000       7.000000    56.000000   840.000000  49820.000000     2.000000     75.000000  5.211263e+06  136191.000000   \n",
      "\n",
      "       IndMarketEnroll2017  Unemployment  \n",
      "count          2718.000000   2718.000000  \n",
      "mean           3385.483076      4.637013  \n",
      "std           13420.473727      1.633442  \n",
      "min               0.000000      1.700000  \n",
      "25%             326.000000      3.600000  \n",
      "50%             761.500000      4.400000  \n",
      "75%            1982.250000      5.400000  \n",
      "max          387848.000000     18.300000  \n"
     ]
    }
   ],
   "source": [
    "# Summarize variables\n",
    "print(plans_data.info())\n",
    "print(plans_data.describe())"
   ]
  },
  {
   "cell_type": "code",
   "execution_count": 15,
   "metadata": {},
   "outputs": [
    {
     "name": "stdout",
     "output_type": "stream",
     "text": [
      "       fips  count_plans  count_issuers     state  st  fips_st  fips_county     CBSA           CBSA_Name  CBSA_Ind CBSA_Status  Num_Hosp2017  \\\n",
      "81     2158            5              1    Alaska  AK        2          158      NaN                 NaN       0.0         NaN           0.0   \n",
      "2305  48301           13              2     Texas  TX       48          301  37780.0  Pecos, TX Micro SA       2.0    Outlying           0.0   \n",
      "2351  48393           13              2     Texas  TX       48          393  37420.0  Pampa, TX Micro SA       2.0    Outlying           0.0   \n",
      "2534  51515           10              1  Virginia  VA       51          515      NaN                 NaN       NaN         NaN           NaN   \n",
      "\n",
      "      Pop2017  MedIncome2017  IndMarketEnroll2017  Unemployment State Code       Pparty Market_Reg  \n",
      "81     8202.0        31250.0                  NaN          20.1         AK  Independent    Federal  \n",
      "2305    134.0        65203.0                  NaN           5.0         TX   Republican    Federal  \n",
      "2351    938.0        67688.0                  NaN           3.7         TX   Republican    Federal  \n",
      "2534      NaN            NaN                  NaN           NaN         VA   Democratic    Federal  \n",
      "Total Number of Rows with no Missing Values 2718\n"
     ]
    }
   ],
   "source": [
    "# Print lines with some columns with missing values\n",
    "print(plans_data[(plans_data.Pop2017.isnull() | plans_data.MedIncome2017.isnull() | plans_data.IndMarketEnroll2017.isnull() | plans_data.Unemployment.isnull())])\n",
    "\n",
    "# The number of rows with some variables with missing values is very small (<0.15%), so we drop those counties from the analysis\n",
    "plans_data = plans_data[(plans_data.Pop2017.notnull() & plans_data.MedIncome2017.notnull() & plans_data.IndMarketEnroll2017.notnull() & plans_data.Unemployment.notnull())]\n",
    "plans_data = plans_data.reset_index(drop=True)\n",
    "print(\"Total Number of Rows with no Missing Values\",len(plans_data))"
   ]
  },
  {
   "cell_type": "code",
   "execution_count": 18,
   "metadata": {},
   "outputs": [
    {
     "name": "stdout",
     "output_type": "stream",
     "text": [
      "       fips  count_plans  count_issuers      state  st  fips_st  fips_county     CBSA                                        CBSA_Name  CBSA_Ind  \\\n",
      "192   12009          104              4    Florida  FL       12            9  37340.0       Palm Bay-Melbourne-Titusville, FL Metro SA       1.0   \n",
      "204   12035           92              4    Florida  FL       12           35  19660.0  Deltona-Daytona Beach-Ormond Beach, FL Metro SA       1.0   \n",
      "246   12117          119              5    Florida  FL       12          117  36740.0           Orlando-Kissimmee-Sanford, FL Metro SA       1.0   \n",
      "251   12127          111              5    Florida  FL       12          127  19660.0  Deltona-Daytona Beach-Ormond Beach, FL Metro SA       1.0   \n",
      "1754  39151           85              5       Ohio  OH       39          151  15940.0                    Canton-Massillon, OH Metro SA       1.0   \n",
      "2676  55105          102              4  Wisconsin  WI       55          105  27500.0                   Janesville-Beloit, WI Metro SA       1.0   \n",
      "\n",
      "     CBSA_Status  Num_Hosp2017   Pop2017  MedIncome2017  IndMarketEnroll2017  Unemployment State Code      Pparty Market_Reg  \n",
      "192      Central          11.0  589162.0        52596.0              37267.0           4.2         FL  Republican    Federal  \n",
      "204      Central           1.0  110510.0        52713.0               7583.0           4.7         FL  Republican    Federal  \n",
      "246      Central           2.0  462659.0        63865.0              35640.0           3.6         FL  Republican    Federal  \n",
      "251      Central           6.0  538692.0        46911.0              38114.0           4.3         FL  Republican    Federal  \n",
      "1754     Central           6.0  372542.0        51214.0               7722.0           5.2         OH  Republican    Federal  \n",
      "2676     Central           4.0  162309.0        55905.0               5517.0           3.7         WI  Republican    Federal  \n"
     ]
    }
   ],
   "source": [
    "# Potential outliers\n",
    "print(plans_data[plans_data.count_plans>80])"
   ]
  },
  {
   "cell_type": "code",
   "execution_count": 16,
   "metadata": {},
   "outputs": [],
   "source": [
    "plans_data.to_json(\"./plans_data.json\", compression=None)"
   ]
  }
 ],
 "metadata": {
  "kernelspec": {
   "display_name": "Python 3",
   "language": "python",
   "name": "python3"
  },
  "language_info": {
   "codemirror_mode": {
    "name": "ipython",
    "version": 3
   },
   "file_extension": ".py",
   "mimetype": "text/x-python",
   "name": "python",
   "nbconvert_exporter": "python",
   "pygments_lexer": "ipython3",
   "version": "3.7.3"
  }
 },
 "nbformat": 4,
 "nbformat_minor": 4
}
