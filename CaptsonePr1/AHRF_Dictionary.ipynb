{
 "cells": [
  {
   "cell_type": "code",
   "execution_count": 22,
   "metadata": {},
   "outputs": [],
   "source": [
    "import pandas as pd\n",
    "from collections import Counter\n",
    "from collections import defaultdict\n",
    "import matplotlib.pyplot as plt\n",
    "import sys\n",
    "import matplotlib"
   ]
  },
  {
   "cell_type": "code",
   "execution_count": 23,
   "metadata": {},
   "outputs": [],
   "source": [
    "# this approach to set paths is supposed to be better but it's not working.\n",
    "#from pathlib import Path\n",
    "#datapath=Path(\"C:/Users/l_gas/Documents/Development/SpringBoard_DataScience/HealthInsuranceData\")\n",
    "#open2019=datapath / \"\\\\AHRF\\\\AHRF_2018-2019\\\\DATA\\\\AHRF2019.asc\""
   ]
  },
  {
   "cell_type": "code",
   "execution_count": 24,
   "metadata": {},
   "outputs": [],
   "source": [
    "datapath='C:\\\\Users\\\\l_gas\\\\Documents\\\\Development\\\\SpringBoard_DataScience\\\\HealthInsuranceData'\n",
    "head2019= datapath + \"\\\\AHRF\\\\AHRF_2018-2019\\\\DOC\\\\AHRF2018-19.sas\""
   ]
  },
  {
   "cell_type": "code",
   "execution_count": 25,
   "metadata": {},
   "outputs": [],
   "source": [
    "# The source data comes as an ASCII file with fixed column width and no variable names\n",
    "# Variable names, and their position in the data file can be extracted from the SAS program provided\n",
    "# Now we open the SAS program clean the data to easily extract any variable of interest from the datafile\n",
    "\n",
    "# Read the SAS code - create a copy\n",
    "ahrf19hd=open(head2019)\n",
    "varlist19=ahrf19hd.readlines()\n",
    "vardf19=pd.DataFrame(varlist19).copy()\n"
   ]
  },
  {
   "cell_type": "code",
   "execution_count": 26,
   "metadata": {},
   "outputs": [
    {
     "name": "stdout",
     "output_type": "stream",
     "text": [
      "                                                   0\n",
      "0                                       data ahrf;\\n\n",
      "1            infile 'c:\\ahrf2019.asc' lrecl=31706;\\n\n",
      "2                                            input\\n\n",
      "3                                                 \\n\n",
      "4                        /*  AHRF2018-19 SAS FD */\\n\n",
      "5                                                 \\n\n",
      "6       @00001    f00001   $  01.  /*Blank       ...\n",
      "7       @00002    f00002   $  05.  /*Header - FIP...\n",
      "8       @00007    f00003   $  05.  /*Entity of Fi...\n",
      "9       @00012    f00004   $  20.  /*Secondary En...\n",
      "(14305, 1)\n",
      "                                                      0\n",
      "6          @00001    f00001   $  01.  /*Blank       ...\n",
      "7          @00002    f00002   $  05.  /*Header - FIP...\n",
      "8          @00007    f00003   $  05.  /*Entity of Fi...\n",
      "9          @00012    f00004   $  20.  /*Secondary En...\n",
      "10         @00032    f00005   $  04.  /*Date of File...\n",
      "...                                                 ...\n",
      "7148       @31690    f1533809    03.  /*Days w/8-hr ...\n",
      "7149       @31693    f1533808    03.  /*Days w/8-hr ...\n",
      "7150       @31696    f1533807    03.  /*Days w/8-hr ...\n",
      "7151       @31699    f1533806    03.  /*Days w/8-hr ...\n",
      "7152       @31702    f0081176    05.  /*Elevation Fe...\n",
      "\n",
      "[7147 rows x 1 columns]\n",
      "(7147, 1)\n"
     ]
    }
   ],
   "source": [
    "# Keep only the lines with information on how to read each variable in the data file(line starts with @ referencing starting position)\n",
    "print(vardf19.head(10))\n",
    "print(vardf19.shape)\n",
    "locf19=vardf19[vardf19[0].astype(str).str.contains(\"@\")]\n",
    "print(locf19)\n",
    "# Keep only the lines with variable lables (the line starts with the variable name and the first letter is always an f)\n",
    "labf19=vardf19[vardf19[0].astype(str).str[0]==\"f\"]\n",
    "print(labf19.shape)"
   ]
  },
  {
   "cell_type": "code",
   "execution_count": 27,
   "metadata": {},
   "outputs": [
    {
     "name": "stdout",
     "output_type": "stream",
     "text": [
      "<class 'pandas.core.frame.DataFrame'>\n",
      "RangeIndex: 7146 entries, 0 to 7145\n",
      "Data columns (total 1 columns):\n",
      "Pos_Start    7146 non-null int32\n",
      "dtypes: int32(1)\n",
      "memory usage: 28.0 KB\n",
      "None\n",
      "      Pos_Start      Name  String  Pos_End\n",
      "0             1    f00001    True      1.0\n",
      "1             2    f00002    True      6.0\n",
      "2             7    f00003    True     11.0\n",
      "3            12    f00004    True     31.0\n",
      "4            32    f00005    True     35.0\n",
      "...         ...       ...     ...      ...\n",
      "7142      31690  f1533809   False  31692.0\n",
      "7143      31693  f1533808   False  31695.0\n",
      "7144      31696  f1533807   False  31698.0\n",
      "7145      31699  f1533806   False  31701.0\n",
      "7146      31702  f0081176   False      NaN\n",
      "\n",
      "[7147 rows x 4 columns]\n",
      "<class 'pandas.core.frame.DataFrame'>\n",
      "RangeIndex: 7147 entries, 0 to 7146\n",
      "Data columns (total 4 columns):\n",
      "Pos_Start    7147 non-null int32\n",
      "Name         7147 non-null object\n",
      "String       7147 non-null bool\n",
      "Pos_End      7146 non-null float64\n",
      "dtypes: bool(1), float64(1), int32(1), object(1)\n",
      "memory usage: 146.7+ KB\n",
      "None\n"
     ]
    }
   ],
   "source": [
    "# Each line in locf19 and labf19 represents one variable\n",
    "# Clean location information\n",
    "locf19 = locf19[0].str.split(n=3,expand=True)\n",
    "locf19.columns=['Pos_Start','Name','Type','Rest']\n",
    "locf19['String'] = locf19.Type==\"$\"\n",
    "locf19['Pos_Start']=locf19['Pos_Start'].map(lambda x: x.lstrip('@'))\n",
    "locf19['Pos_Start']=locf19['Pos_Start'].astype(int)\n",
    "locf19 = locf19.reset_index()\n",
    "locf19 = locf19.drop(['index','Type','Rest'],axis=1)\n",
    "locend=locf19['Pos_Start'][1:].reset_index().drop(['index'],axis=1)-1\n",
    "print(locend.info())\n",
    "locend = locend.rename(columns={\"Pos_Start\": \"Pos_End\"})\n",
    "locf19 = pd.concat([locf19,locend],axis=1)\n",
    "print(locf19)\n",
    "print(locf19.info())"
   ]
  },
  {
   "cell_type": "code",
   "execution_count": 28,
   "metadata": {},
   "outputs": [
    {
     "name": "stdout",
     "output_type": "stream",
     "text": [
      "                                                     0\n",
      "7156                           f00001\\t \\t = \"Blank\"\\n\n",
      "7157  f00002\\t  \\t = \"Header - FIPS St and Cty Code\"\\n\n",
      "7158                   f00003\\t\\t = \"Entity of File\"\\n\n",
      "7159         f00004\\t\\t = \"Secondary Entity Of File\"\\n\n",
      "7160                     f00005\\t\\t = \"Date of File\"\\n\n",
      "   Pos_Start    Name  String  Pos_End                          Label\n",
      "0          1  f00001    True      1.0                          Blank\n",
      "1          2  f00002    True      6.0  Header - FIPS St and Cty Code\n",
      "2          7  f00003    True     11.0                 Entity of File\n",
      "3         12  f00004    True     31.0       Secondary Entity Of File\n",
      "4         32  f00005    True     35.0                   Date of File\n",
      "<class 'pandas.core.frame.DataFrame'>\n",
      "Int64Index: 7147 entries, 0 to 7146\n",
      "Data columns (total 5 columns):\n",
      "Pos_Start    7147 non-null int32\n",
      "Name         7147 non-null object\n",
      "String       7147 non-null bool\n",
      "Pos_End      7146 non-null float64\n",
      "Label        7147 non-null object\n",
      "dtypes: bool(1), float64(1), int32(1), object(2)\n",
      "memory usage: 258.2+ KB\n",
      "None\n"
     ]
    }
   ],
   "source": [
    "# Clean label information and add to var information\n",
    "print(labf19.head())\n",
    "labf19 = labf19[0].str.split(\"\\t\",n=1,expand=True)\n",
    "labf192 =  labf19[1].str.split(\"\\\"\",n=2,expand=True)\n",
    "labf19 = pd.concat([labf19[0],labf192[1]],axis=1)\n",
    "labf19.columns=[\"Name\",\"Label\"]\n",
    "locf19 = pd.merge(left=locf19,right=labf19, on=\"Name\")\n",
    "#labf19 = labf19.rename(columns={\"0\": \"Name\", \"1\": \"Label\"})\n",
    "print(locf19.head())\n",
    "print(locf19.info())"
   ]
  },
  {
   "cell_type": "code",
   "execution_count": 29,
   "metadata": {},
   "outputs": [],
   "source": [
    "locf19.to_csv('AHRF2019_dict.csv')"
   ]
  },
  {
   "cell_type": "code",
   "execution_count": 30,
   "metadata": {},
   "outputs": [
    {
     "data": {
      "text/html": [
       "<div>\n",
       "<style scoped>\n",
       "    .dataframe tbody tr th:only-of-type {\n",
       "        vertical-align: middle;\n",
       "    }\n",
       "\n",
       "    .dataframe tbody tr th {\n",
       "        vertical-align: top;\n",
       "    }\n",
       "\n",
       "    .dataframe thead th {\n",
       "        text-align: right;\n",
       "    }\n",
       "</style>\n",
       "<table border=\"1\" class=\"dataframe\">\n",
       "  <thead>\n",
       "    <tr style=\"text-align: right;\">\n",
       "      <th></th>\n",
       "      <th>Pos_Start</th>\n",
       "      <th>Name</th>\n",
       "      <th>String</th>\n",
       "      <th>Pos_End</th>\n",
       "      <th>Label</th>\n",
       "    </tr>\n",
       "  </thead>\n",
       "  <tbody>\n",
       "    <tr>\n",
       "      <td>0</td>\n",
       "      <td>1</td>\n",
       "      <td>f00001</td>\n",
       "      <td>True</td>\n",
       "      <td>1.0</td>\n",
       "      <td>Blank</td>\n",
       "    </tr>\n",
       "    <tr>\n",
       "      <td>1</td>\n",
       "      <td>2</td>\n",
       "      <td>f00002</td>\n",
       "      <td>True</td>\n",
       "      <td>6.0</td>\n",
       "      <td>Header - FIPS St and Cty Code</td>\n",
       "    </tr>\n",
       "    <tr>\n",
       "      <td>2</td>\n",
       "      <td>7</td>\n",
       "      <td>f00003</td>\n",
       "      <td>True</td>\n",
       "      <td>11.0</td>\n",
       "      <td>Entity of File</td>\n",
       "    </tr>\n",
       "    <tr>\n",
       "      <td>3</td>\n",
       "      <td>12</td>\n",
       "      <td>f00004</td>\n",
       "      <td>True</td>\n",
       "      <td>31.0</td>\n",
       "      <td>Secondary Entity Of File</td>\n",
       "    </tr>\n",
       "    <tr>\n",
       "      <td>4</td>\n",
       "      <td>32</td>\n",
       "      <td>f00005</td>\n",
       "      <td>True</td>\n",
       "      <td>35.0</td>\n",
       "      <td>Date of File</td>\n",
       "    </tr>\n",
       "  </tbody>\n",
       "</table>\n",
       "</div>"
      ],
      "text/plain": [
       "   Pos_Start    Name  String  Pos_End                          Label\n",
       "0          1  f00001    True      1.0                          Blank\n",
       "1          2  f00002    True      6.0  Header - FIPS St and Cty Code\n",
       "2          7  f00003    True     11.0                 Entity of File\n",
       "3         12  f00004    True     31.0       Secondary Entity Of File\n",
       "4         32  f00005    True     35.0                   Date of File"
      ]
     },
     "execution_count": 30,
     "metadata": {},
     "output_type": "execute_result"
    }
   ],
   "source": [
    "locf19.head()"
   ]
  },
  {
   "cell_type": "code",
   "execution_count": null,
   "metadata": {},
   "outputs": [],
   "source": []
  }
 ],
 "metadata": {
  "kernelspec": {
   "display_name": "Python 3",
   "language": "python",
   "name": "python3"
  },
  "language_info": {
   "codemirror_mode": {
    "name": "ipython",
    "version": 3
   },
   "file_extension": ".py",
   "mimetype": "text/x-python",
   "name": "python",
   "nbconvert_exporter": "python",
   "pygments_lexer": "ipython3",
   "version": "3.7.3"
  }
 },
 "nbformat": 4,
 "nbformat_minor": 2
}
