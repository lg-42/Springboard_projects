{
 "cells": [
  {
   "cell_type": "code",
   "execution_count": 1,
   "metadata": {},
   "outputs": [],
   "source": [
    "import pandas as pd\n",
    "from collections import Counter\n",
    "from collections import defaultdict\n",
    "import matplotlib.pyplot as plt\n",
    "import sys\n",
    "import matplotlib\n",
    "%matplotlib inline"
   ]
  },
  {
   "cell_type": "code",
   "execution_count": 2,
   "metadata": {},
   "outputs": [],
   "source": [
    "plans_2018 = pd.read_csv(r'C:\\Users\\l_gas\\Documents\\Development\\SpringBoard_DataScience\\HealthInsuranceData\\IndivMarketPlans\\QHP_PY2018_Medi-_Indi-_Land.csv',\n",
    "                   low_memory=False, usecols=['State Code','FIPS County Code','County Name',\n",
    "'Metal Level','Issuer Name','HIOS Issuer ID','Plan ID (Standard Component)','Plan Marketing Name','Plan Type',\n",
    "'Standardized Plan Design','Rating Area','Child Only Offering','Source','Accreditation',\n",
    "'Adult Dental ','Child Dental ','EHB Percent of Total Premium',\n",
    "'Premium Scenarios','Premium Child Age 0-14','Premium Child Age 18','Premium Adult Individual Age 21',\n",
    "'Premium Adult Individual Age 27','Premium Adult Individual Age 30 ','Premium Adult Individual Age 40 ',\n",
    "'Premium Adult Individual Age 50 ','Premium Adult Individual Age 60 '])"
   ]
  },
  {
   "cell_type": "code",
   "execution_count": 3,
   "metadata": {},
   "outputs": [
    {
     "name": "stdout",
     "output_type": "stream",
     "text": [
      "(39348, 26)\n"
     ]
    }
   ],
   "source": [
    "#Source file size - Note that not all columns were uploaded, just geographic area variables, insurer information and premiums\n",
    "print(plans_2018.shape)"
   ]
  },
  {
   "cell_type": "code",
   "execution_count": 4,
   "metadata": {
    "scrolled": true
   },
   "outputs": [
    {
     "data": {
      "text/html": [
       "<div>\n",
       "<style scoped>\n",
       "    .dataframe tbody tr th:only-of-type {\n",
       "        vertical-align: middle;\n",
       "    }\n",
       "\n",
       "    .dataframe tbody tr th {\n",
       "        vertical-align: top;\n",
       "    }\n",
       "\n",
       "    .dataframe thead th {\n",
       "        text-align: right;\n",
       "    }\n",
       "</style>\n",
       "<table border=\"1\" class=\"dataframe\">\n",
       "  <thead>\n",
       "    <tr style=\"text-align: right;\">\n",
       "      <th></th>\n",
       "      <th>FIPS County Code</th>\n",
       "      <th>HIOS Issuer ID</th>\n",
       "      <th>Premium Scenarios</th>\n",
       "      <th>Premium Child Age 0-14</th>\n",
       "      <th>Premium Child Age 18</th>\n",
       "      <th>Premium Adult Individual Age 21</th>\n",
       "      <th>Premium Adult Individual Age 27</th>\n",
       "      <th>Premium Adult Individual Age 30</th>\n",
       "      <th>Premium Adult Individual Age 40</th>\n",
       "      <th>Premium Adult Individual Age 50</th>\n",
       "      <th>Premium Adult Individual Age 60</th>\n",
       "    </tr>\n",
       "  </thead>\n",
       "  <tbody>\n",
       "    <tr>\n",
       "      <td>count</td>\n",
       "      <td>39348.000000</td>\n",
       "      <td>39348.000000</td>\n",
       "      <td>0.0</td>\n",
       "      <td>39348.000000</td>\n",
       "      <td>39348.000000</td>\n",
       "      <td>39348.000000</td>\n",
       "      <td>39348.000000</td>\n",
       "      <td>39348.000000</td>\n",
       "      <td>39348.000000</td>\n",
       "      <td>39348.000000</td>\n",
       "      <td>39348.000000</td>\n",
       "    </tr>\n",
       "    <tr>\n",
       "      <td>mean</td>\n",
       "      <td>30717.150554</td>\n",
       "      <td>47555.950646</td>\n",
       "      <td>NaN</td>\n",
       "      <td>299.905370</td>\n",
       "      <td>355.726905</td>\n",
       "      <td>393.943064</td>\n",
       "      <td>414.407215</td>\n",
       "      <td>448.285120</td>\n",
       "      <td>504.372324</td>\n",
       "      <td>705.132349</td>\n",
       "      <td>1070.460071</td>\n",
       "    </tr>\n",
       "    <tr>\n",
       "      <td>std</td>\n",
       "      <td>15533.700753</td>\n",
       "      <td>26056.406044</td>\n",
       "      <td>NaN</td>\n",
       "      <td>89.664127</td>\n",
       "      <td>108.471209</td>\n",
       "      <td>116.399537</td>\n",
       "      <td>122.622838</td>\n",
       "      <td>132.397626</td>\n",
       "      <td>148.882845</td>\n",
       "      <td>208.184728</td>\n",
       "      <td>315.977377</td>\n",
       "    </tr>\n",
       "    <tr>\n",
       "      <td>min</td>\n",
       "      <td>1001.000000</td>\n",
       "      <td>10091.000000</td>\n",
       "      <td>NaN</td>\n",
       "      <td>113.100000</td>\n",
       "      <td>134.700000</td>\n",
       "      <td>147.840000</td>\n",
       "      <td>154.930000</td>\n",
       "      <td>167.800000</td>\n",
       "      <td>188.940000</td>\n",
       "      <td>264.040000</td>\n",
       "      <td>401.230000</td>\n",
       "    </tr>\n",
       "    <tr>\n",
       "      <td>25%</td>\n",
       "      <td>18005.000000</td>\n",
       "      <td>26539.000000</td>\n",
       "      <td>NaN</td>\n",
       "      <td>236.920000</td>\n",
       "      <td>279.360000</td>\n",
       "      <td>312.160000</td>\n",
       "      <td>328.300000</td>\n",
       "      <td>355.190000</td>\n",
       "      <td>399.570000</td>\n",
       "      <td>558.490000</td>\n",
       "      <td>848.210000</td>\n",
       "    </tr>\n",
       "    <tr>\n",
       "      <td>50%</td>\n",
       "      <td>29161.000000</td>\n",
       "      <td>38166.000000</td>\n",
       "      <td>NaN</td>\n",
       "      <td>287.790000</td>\n",
       "      <td>342.040000</td>\n",
       "      <td>378.960000</td>\n",
       "      <td>398.415000</td>\n",
       "      <td>431.350000</td>\n",
       "      <td>484.500000</td>\n",
       "      <td>677.850000</td>\n",
       "      <td>1028.900000</td>\n",
       "    </tr>\n",
       "    <tr>\n",
       "      <td>75%</td>\n",
       "      <td>46055.000000</td>\n",
       "      <td>70525.000000</td>\n",
       "      <td>NaN</td>\n",
       "      <td>353.320000</td>\n",
       "      <td>420.945000</td>\n",
       "      <td>462.420000</td>\n",
       "      <td>486.220000</td>\n",
       "      <td>526.280000</td>\n",
       "      <td>592.310000</td>\n",
       "      <td>828.025000</td>\n",
       "      <td>1257.080000</td>\n",
       "    </tr>\n",
       "    <tr>\n",
       "      <td>max</td>\n",
       "      <td>56045.000000</td>\n",
       "      <td>99969.000000</td>\n",
       "      <td>NaN</td>\n",
       "      <td>904.310000</td>\n",
       "      <td>1079.260000</td>\n",
       "      <td>1182.100000</td>\n",
       "      <td>1238.840000</td>\n",
       "      <td>1341.690000</td>\n",
       "      <td>1510.730000</td>\n",
       "      <td>2111.240000</td>\n",
       "      <td>3208.230000</td>\n",
       "    </tr>\n",
       "  </tbody>\n",
       "</table>\n",
       "</div>"
      ],
      "text/plain": [
       "       FIPS County Code  HIOS Issuer ID  Premium Scenarios  \\\n",
       "count      39348.000000    39348.000000                0.0   \n",
       "mean       30717.150554    47555.950646                NaN   \n",
       "std        15533.700753    26056.406044                NaN   \n",
       "min         1001.000000    10091.000000                NaN   \n",
       "25%        18005.000000    26539.000000                NaN   \n",
       "50%        29161.000000    38166.000000                NaN   \n",
       "75%        46055.000000    70525.000000                NaN   \n",
       "max        56045.000000    99969.000000                NaN   \n",
       "\n",
       "       Premium Child Age 0-14  Premium Child Age 18  \\\n",
       "count            39348.000000          39348.000000   \n",
       "mean               299.905370            355.726905   \n",
       "std                 89.664127            108.471209   \n",
       "min                113.100000            134.700000   \n",
       "25%                236.920000            279.360000   \n",
       "50%                287.790000            342.040000   \n",
       "75%                353.320000            420.945000   \n",
       "max                904.310000           1079.260000   \n",
       "\n",
       "       Premium Adult Individual Age 21  Premium Adult Individual Age 27  \\\n",
       "count                     39348.000000                     39348.000000   \n",
       "mean                        393.943064                       414.407215   \n",
       "std                         116.399537                       122.622838   \n",
       "min                         147.840000                       154.930000   \n",
       "25%                         312.160000                       328.300000   \n",
       "50%                         378.960000                       398.415000   \n",
       "75%                         462.420000                       486.220000   \n",
       "max                        1182.100000                      1238.840000   \n",
       "\n",
       "       Premium Adult Individual Age 30   Premium Adult Individual Age 40   \\\n",
       "count                      39348.000000                      39348.000000   \n",
       "mean                         448.285120                        504.372324   \n",
       "std                          132.397626                        148.882845   \n",
       "min                          167.800000                        188.940000   \n",
       "25%                          355.190000                        399.570000   \n",
       "50%                          431.350000                        484.500000   \n",
       "75%                          526.280000                        592.310000   \n",
       "max                         1341.690000                       1510.730000   \n",
       "\n",
       "       Premium Adult Individual Age 50   Premium Adult Individual Age 60   \n",
       "count                      39348.000000                      39348.000000  \n",
       "mean                         705.132349                       1070.460071  \n",
       "std                          208.184728                        315.977377  \n",
       "min                          264.040000                        401.230000  \n",
       "25%                          558.490000                        848.210000  \n",
       "50%                          677.850000                       1028.900000  \n",
       "75%                          828.025000                       1257.080000  \n",
       "max                         2111.240000                       3208.230000  "
      ]
     },
     "execution_count": 4,
     "metadata": {},
     "output_type": "execute_result"
    }
   ],
   "source": [
    "#Describe the data in plans_2018\n",
    "plans_2018.describe()"
   ]
  },
  {
   "cell_type": "code",
   "execution_count": 5,
   "metadata": {},
   "outputs": [
    {
     "name": "stdout",
     "output_type": "stream",
     "text": [
      "Number of FIPS:\n",
      "2722\n"
     ]
    }
   ],
   "source": [
    "fips_numofplans=Counter(plans_2018['FIPS County Code'])\n",
    "print(\"Number of FIPS:\")\n",
    "print(len(fips_numofplans))"
   ]
  },
  {
   "cell_type": "code",
   "execution_count": 6,
   "metadata": {},
   "outputs": [
    {
     "name": "stdout",
     "output_type": "stream",
     "text": [
      "Number of distinct plan ids:\n",
      "2085\n"
     ]
    }
   ],
   "source": [
    "print(\"Number of distinct plan ids:\")\n",
    "print(len(Counter(plans_2018['Plan ID (Standard Component)'])))"
   ]
  },
  {
   "cell_type": "code",
   "execution_count": 7,
   "metadata": {},
   "outputs": [
    {
     "name": "stdout",
     "output_type": "stream",
     "text": [
      "Number of distinct States in the Database\n",
      "39\n",
      "['AK' 'AL' 'FL' 'AR' 'AZ' 'DE' 'GA' 'IL' 'MI' 'HI' 'MO' 'IA' 'IN' 'MS'\n",
      " 'KS' 'KY' 'LA' 'ME' 'MT' 'PA' 'ND' 'NJ' 'NE' 'NM' 'NH' 'NC' 'OR' 'WI'\n",
      " 'NV' 'OH' 'OK' 'SD' 'SC' 'VA' 'TX' 'TN' 'UT' 'WV' 'WY']\n"
     ]
    }
   ],
   "source": [
    "print(\"Number of distinct States in the Database\")\n",
    "print(len(Counter(plans_2018['State Code'])))\n",
    "state_list=plans_2018['State Code'].unique()\n",
    "print(state_list)"
   ]
  },
  {
   "cell_type": "code",
   "execution_count": 8,
   "metadata": {},
   "outputs": [
    {
     "name": "stdout",
     "output_type": "stream",
     "text": [
      "List of different metal levels and count of plans under each level:\n",
      "Counter({'Silver': 16899, 'Bronze': 9211, 'Gold': 6847, 'Expanded Bronze': 3008, 'Catastrophic': 2819, 'Platinum': 564})\n"
     ]
    }
   ],
   "source": [
    "# Count number of lines under each plan metal level\n",
    "metal_cnt=Counter(plans_2018['Metal Level'])\n",
    "print(\"List of different metal levels and count of plans under each level:\")\n",
    "print(metal_cnt)"
   ]
  },
  {
   "cell_type": "code",
   "execution_count": 9,
   "metadata": {},
   "outputs": [
    {
     "name": "stdout",
     "output_type": "stream",
     "text": [
      "Number of plans/FIPS combinations under each Plan Design Level:\n",
      "Counter({'Not Applicable': 36296, 'Design 1': 2493, 'Design 2': 334, 'Design 3': 216, 'Design 4': 9})\n"
     ]
    }
   ],
   "source": [
    "# Count number of lines under each Standardized Plan Design level - explore levels\n",
    "std_plandesign_cnt=Counter(plans_2018['Standardized Plan Design'])\n",
    "print(\"Number of plans/FIPS combinations under each Plan Design Level:\")\n",
    "print(std_plandesign_cnt)\n",
    "\n",
    "#silver_plans_2018=plans_2018['Metal Level'=='Silver']\n",
    "#main_plans_2018=plans_2018[plans_2018['Metal Level'=='Silver']]\n",
    "\n",
    "#main_plans_2018=plans_2018[plans_2018['Metal Level'=='Silver' or 'Metal level'=='Bronze' or 'Metal level'=='Gold' or 'Metal level'=='Platinum']]\n",
    "#std_plandesign_mainlvl=Counter(main_plans_2018['Standardized Plan Design'])\n",
    "#print(\"\\nNumber of plans/FIPS combinations under each Plan Design Level- Only Bronze, Silver, Platinum and Gold:\")\n",
    "#print(std_plandesign_mainlvl)"
   ]
  },
  {
   "cell_type": "code",
   "execution_count": 10,
   "metadata": {},
   "outputs": [
    {
     "name": "stdout",
     "output_type": "stream",
     "text": [
      "Number of plans/FIPS combinations under each Plan Type:\n",
      "Counter({'HMO': 18020, 'PPO': 10725, 'EPO': 7891, 'POS': 2712})\n"
     ]
    }
   ],
   "source": [
    "# Count number of lines under each Plan type\n",
    "plantype_cnt = Counter(plans_2018['Plan Type'])\n",
    "print(\"Number of plans/FIPS combinations under each Plan Type:\")\n",
    "print(plantype_cnt)"
   ]
  },
  {
   "cell_type": "code",
   "execution_count": 11,
   "metadata": {},
   "outputs": [
    {
     "name": "stdout",
     "output_type": "stream",
     "text": [
      "<class 'pandas.core.frame.DataFrame'>\n",
      "RangeIndex: 39348 entries, 0 to 39347\n",
      "Data columns (total 26 columns):\n",
      "State Code                          39348 non-null object\n",
      "FIPS County Code                    39348 non-null int64\n",
      "County Name                         39348 non-null object\n",
      "Metal Level                         39348 non-null object\n",
      "Issuer Name                         39348 non-null object\n",
      "HIOS Issuer ID                      39348 non-null int64\n",
      "Plan ID (Standard Component)        39348 non-null object\n",
      "Plan Marketing Name                 39348 non-null object\n",
      "Plan Type                           39348 non-null object\n",
      "Standardized Plan Design            39348 non-null object\n",
      "Rating Area                         39348 non-null object\n",
      "Child Only Offering                 39348 non-null object\n",
      "Source                              39348 non-null object\n",
      "Accreditation                       19327 non-null object\n",
      "Adult Dental                        2206 non-null object\n",
      "Child Dental                        16654 non-null object\n",
      "EHB Percent of Total Premium        39318 non-null object\n",
      "Premium Scenarios                   0 non-null float64\n",
      "Premium Child Age 0-14              39348 non-null float64\n",
      "Premium Child Age 18                39348 non-null float64\n",
      "Premium Adult Individual Age 21     39348 non-null float64\n",
      "Premium Adult Individual Age 27     39348 non-null float64\n",
      "Premium Adult Individual Age 30     39348 non-null float64\n",
      "Premium Adult Individual Age 40     39348 non-null float64\n",
      "Premium Adult Individual Age 50     39348 non-null float64\n",
      "Premium Adult Individual Age 60     39348 non-null float64\n",
      "dtypes: float64(9), int64(2), object(15)\n",
      "memory usage: 7.8+ MB\n",
      "None\n",
      "                 Premium Child Age 0-14 Premium Child Age 18  \\\n",
      "                                  count                count   \n",
      "FIPS County Code                                               \n",
      "1001                                  7                    7   \n",
      "1003                                  7                    7   \n",
      "1005                                  7                    7   \n",
      "1007                                  7                    7   \n",
      "1009                                  7                    7   \n",
      "...                                 ...                  ...   \n",
      "56037                                10                   10   \n",
      "56039                                10                   10   \n",
      "56041                                10                   10   \n",
      "56043                                10                   10   \n",
      "56045                                10                   10   \n",
      "\n",
      "                 Premium Adult Individual Age 21  \\\n",
      "                                           count   \n",
      "FIPS County Code                                   \n",
      "1001                                           7   \n",
      "1003                                           7   \n",
      "1005                                           7   \n",
      "1007                                           7   \n",
      "1009                                           7   \n",
      "...                                          ...   \n",
      "56037                                         10   \n",
      "56039                                         10   \n",
      "56041                                         10   \n",
      "56043                                         10   \n",
      "56045                                         10   \n",
      "\n",
      "                 Premium Adult Individual Age 27  \\\n",
      "                                           count   \n",
      "FIPS County Code                                   \n",
      "1001                                           7   \n",
      "1003                                           7   \n",
      "1005                                           7   \n",
      "1007                                           7   \n",
      "1009                                           7   \n",
      "...                                          ...   \n",
      "56037                                         10   \n",
      "56039                                         10   \n",
      "56041                                         10   \n",
      "56043                                         10   \n",
      "56045                                         10   \n",
      "\n",
      "                 Premium Adult Individual Age 30   \\\n",
      "                                            count   \n",
      "FIPS County Code                                    \n",
      "1001                                            7   \n",
      "1003                                            7   \n",
      "1005                                            7   \n",
      "1007                                            7   \n",
      "1009                                            7   \n",
      "...                                           ...   \n",
      "56037                                          10   \n",
      "56039                                          10   \n",
      "56041                                          10   \n",
      "56043                                          10   \n",
      "56045                                          10   \n",
      "\n",
      "                 Premium Adult Individual Age 40   \\\n",
      "                                            count   \n",
      "FIPS County Code                                    \n",
      "1001                                            7   \n",
      "1003                                            7   \n",
      "1005                                            7   \n",
      "1007                                            7   \n",
      "1009                                            7   \n",
      "...                                           ...   \n",
      "56037                                          10   \n",
      "56039                                          10   \n",
      "56041                                          10   \n",
      "56043                                          10   \n",
      "56045                                          10   \n",
      "\n",
      "                 Premium Adult Individual Age 50   \\\n",
      "                                            count   \n",
      "FIPS County Code                                    \n",
      "1001                                            7   \n",
      "1003                                            7   \n",
      "1005                                            7   \n",
      "1007                                            7   \n",
      "1009                                            7   \n",
      "...                                           ...   \n",
      "56037                                          10   \n",
      "56039                                          10   \n",
      "56041                                          10   \n",
      "56043                                          10   \n",
      "56045                                          10   \n",
      "\n",
      "                 Premium Adult Individual Age 60   \n",
      "                                            count  \n",
      "FIPS County Code                                   \n",
      "1001                                            7  \n",
      "1003                                            7  \n",
      "1005                                            7  \n",
      "1007                                            7  \n",
      "1009                                            7  \n",
      "...                                           ...  \n",
      "56037                                          10  \n",
      "56039                                          10  \n",
      "56041                                          10  \n",
      "56043                                          10  \n",
      "56045                                          10  \n",
      "\n",
      "[2722 rows x 8 columns]\n",
      "(2722, 8)\n"
     ]
    }
   ],
   "source": [
    "# Count number of plans offered for each FIPS\n",
    "#print(plans_2018.shape)\n",
    "print(plans_2018.info())\n",
    "#plancnt=plans_2018['HIOS Issuer ID'].group_by('FIPS County Code').count()\n",
    "plancnt=plans_2018.groupby('FIPS County Code')[['Premium Child Age 0-14','Premium Child Age 18','Premium Adult Individual Age 21',\n",
    "'Premium Adult Individual Age 27','Premium Adult Individual Age 30 ','Premium Adult Individual Age 40 ',\n",
    "'Premium Adult Individual Age 50 ','Premium Adult Individual Age 60 ']].agg(['count'])\n",
    "print(plancnt)\n",
    "print(plancnt.shape)"
   ]
  },
  {
   "cell_type": "code",
   "execution_count": 12,
   "metadata": {
    "scrolled": true
   },
   "outputs": [
    {
     "data": {
      "image/png": "[encoded data removed]",
      "text/plain": [
       "<Figure size 432x288 with 1 Axes>"
      ]
     },
     "metadata": {
      "needs_background": "light"
     },
     "output_type": "display_data"
    }
   ],
   "source": [
    "fips_age30=plancnt[[('Premium Adult Individual Age 30 ','count')]]\n",
    "fips_age30['Premium Adult Individual Age 30 '].plot(kind='hist')\n",
    "plt.xlabel('Number of Plans')\n",
    "plt.title('Distribution of Number of Plans Offered To Individuals Age 30 at the County Level')\n",
    "plt.show()"
   ]
  },
  {
   "cell_type": "code",
   "execution_count": 13,
   "metadata": {},
   "outputs": [
    {
     "data": {
      "image/png": "[encoded data removed]",
      "text/plain": [
       "<Figure size 432x288 with 1 Axes>"
      ]
     },
     "metadata": {
      "needs_background": "light"
     },
     "output_type": "display_data"
    }
   ],
   "source": [
    "fips_age30['Premium Adult Individual Age 30 '].boxplot()\n",
    "plt.xlabel('Number of Plans')\n",
    "plt.title('Distribution of Number of Plans Offered To Individuals Age 30 at the County Level')\n",
    "plt.show()"
   ]
  },
  {
   "cell_type": "code",
   "execution_count": 14,
   "metadata": {},
   "outputs": [
    {
     "data": {
      "text/html": [
       "<div>\n",
       "<style scoped>\n",
       "    .dataframe tbody tr th:only-of-type {\n",
       "        vertical-align: middle;\n",
       "    }\n",
       "\n",
       "    .dataframe tbody tr th {\n",
       "        vertical-align: top;\n",
       "    }\n",
       "\n",
       "    .dataframe thead tr th {\n",
       "        text-align: left;\n",
       "    }\n",
       "</style>\n",
       "<table border=\"1\" class=\"dataframe\">\n",
       "  <thead>\n",
       "    <tr>\n",
       "      <th></th>\n",
       "      <th>Premium Adult Individual Age 30</th>\n",
       "    </tr>\n",
       "    <tr>\n",
       "      <th></th>\n",
       "      <th>count</th>\n",
       "    </tr>\n",
       "  </thead>\n",
       "  <tbody>\n",
       "    <tr>\n",
       "      <td>count</td>\n",
       "      <td>2722.000000</td>\n",
       "    </tr>\n",
       "    <tr>\n",
       "      <td>mean</td>\n",
       "      <td>14.455547</td>\n",
       "    </tr>\n",
       "    <tr>\n",
       "      <td>std</td>\n",
       "      <td>10.558827</td>\n",
       "    </tr>\n",
       "    <tr>\n",
       "      <td>min</td>\n",
       "      <td>2.000000</td>\n",
       "    </tr>\n",
       "    <tr>\n",
       "      <td>25%</td>\n",
       "      <td>7.000000</td>\n",
       "    </tr>\n",
       "    <tr>\n",
       "      <td>50%</td>\n",
       "      <td>12.000000</td>\n",
       "    </tr>\n",
       "    <tr>\n",
       "      <td>75%</td>\n",
       "      <td>18.000000</td>\n",
       "    </tr>\n",
       "    <tr>\n",
       "      <td>max</td>\n",
       "      <td>119.000000</td>\n",
       "    </tr>\n",
       "  </tbody>\n",
       "</table>\n",
       "</div>"
      ],
      "text/plain": [
       "      Premium Adult Individual Age 30 \n",
       "                                 count\n",
       "count                      2722.000000\n",
       "mean                         14.455547\n",
       "std                          10.558827\n",
       "min                           2.000000\n",
       "25%                           7.000000\n",
       "50%                          12.000000\n",
       "75%                          18.000000\n",
       "max                         119.000000"
      ]
     },
     "execution_count": 14,
     "metadata": {},
     "output_type": "execute_result"
    }
   ],
   "source": [
    "fips_age30.describe()"
   ]
  },
  {
   "cell_type": "code",
   "execution_count": 69,
   "metadata": {},
   "outputs": [
    {
     "name": "stdout",
     "output_type": "stream",
     "text": [
      "<class 'pandas.core.frame.DataFrame'>\n",
      "Int64Index: 2722 entries, 1001 to 56045\n",
      "Data columns (total 1 columns):\n",
      "(Premium Adult Individual Age 30 , count)    2722 non-null int64\n",
      "dtypes: int64(1)\n",
      "memory usage: 122.5 KB\n",
      "None\n"
     ]
    }
   ],
   "source": [
    "plancnt=plans_2018.groupby('FIPS County Code')[['Premium Child Age 0-14','Premium Child Age 18','Premium Adult Individual Age 21',\n",
    "'Premium Adult Individual Age 27','Premium Adult Individual Age 30 ','Premium Adult Individual Age 40 ',\n",
    "'Premium Adult Individual Age 50 ','Premium Adult Individual Age 60 ']].agg(['count','mean'])\n",
    "fips_age30=plancnt[[('Premium Adult Individual Age 30 ','count')]].reset_index()\n"
   ]
  },
  {
   "cell_type": "code",
   "execution_count": null,
   "metadata": {},
   "outputs": [],
   "source": [
    "planmeans=plans_2018.groupby('FIPS County Code')[['Premium Child Age 0-14','Premium Child Age 18','Premium Adult Individual Age 21',\n",
    "'Premium Adult Individual Age 27','Premium Adult Individual Age 30 ','Premium Adult Individual Age 40 ',\n",
    "'Premium Adult Individual Age 50 ','Premium Adult Individual Age 60 ']].agg(['means'])\n"
   ]
  }
 ],
 "metadata": {
  "kernelspec": {
   "display_name": "Python 3",
   "language": "python",
   "name": "python3"
  },
  "language_info": {
   "codemirror_mode": {
    "name": "ipython",
    "version": 3
   },
   "file_extension": ".py",
   "mimetype": "text/x-python",
   "name": "python",
   "nbconvert_exporter": "python",
   "pygments_lexer": "ipython3",
   "version": "3.7.3"
  }
 },
 "nbformat": 4,
 "nbformat_minor": 2
}
