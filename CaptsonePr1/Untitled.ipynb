{
 "cells": [
  {
   "cell_type": "code",
   "execution_count": null,
   "metadata": {},
   "outputs": [],
   "source": [
    "import pandas as pd"
   ]
  },
  {
   "cell_type": "code",
   "execution_count": null,
   "metadata": {},
   "outputs": [],
   "source": [
    "# Read 2018 Individual market Plan Information - Read only columns with geographic information, \n",
    "# plan characteristics, and Premiums for individuals.\n",
    "plans_2018 = pd.read_csv(r'C:\\Users\\l_gas\\Documents\\Development\\SpringBoard_DataScience\\HealthInsuranceData\\IndivMarketPlans\\QHP_PY2018_Medi-_Indi-_Land.csv',\n",
    "                   low_memory=False, usecols=['State Code','FIPS County Code','County Name',\n",
    "'Metal Level','Issuer Name','HIOS Issuer ID','Plan ID (Standard Component)','Plan Marketing Name','Plan Type',\n",
    "'Standardized Plan Design','Rating Area','Child Only Offering','Source','Accreditation',\n",
    "'Adult Dental ','Child Dental ','EHB Percent of Total Premium',\n",
    "'Premium Scenarios','Premium Child Age 0-14','Premium Child Age 18','Premium Adult Individual Age 21',\n",
    "'Premium Adult Individual Age 27','Premium Adult Individual Age 30 ','Premium Adult Individual Age 40 ',\n",
    "'Premium Adult Individual Age 50 ','Premium Adult Individual Age 60 '])"
   ]
  }
 ],
 "metadata": {
  "kernelspec": {
   "display_name": "Python 3",
   "language": "python",
   "name": "python3"
  },
  "language_info": {
   "codemirror_mode": {
    "name": "ipython",
    "version": 3
   },
   "file_extension": ".py",
   "mimetype": "text/x-python",
   "name": "python",
   "nbconvert_exporter": "python",
   "pygments_lexer": "ipython3",
   "version": "3.7.3"
  }
 },
 "nbformat": 4,
 "nbformat_minor": 2
}
