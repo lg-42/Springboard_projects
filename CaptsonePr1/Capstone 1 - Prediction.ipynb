{
 "cells": [
  {
   "cell_type": "markdown",
   "metadata": {},
   "source": [
    "# Predicting the Number of Health Plan Options in a Given County"
   ]
  },
  {
   "cell_type": "code",
   "execution_count": 1,
   "metadata": {},
   "outputs": [],
   "source": [
    "# Import libraries \n",
    "import pandas as pd\n",
    "import numpy as np\n",
    "#from collections import Counter\n",
    "import seaborn as sns\n",
    "import matplotlib.pyplot as plt\n",
    "#import plotly.express as px\n",
    "#import plotly.figure_factory as ff\n",
    "#import geopandas as gpd\n",
    "#from shapely.geometry import Point, Polygon\n",
    "#%matplotlib inline\n",
    "import sklearn\n",
    "from sklearn.model_selection import train_test_split\n",
    "from sklearn.model_selection import cross_val_score\n",
    "from sklearn.linear_model import LinearRegression\n",
    "from sklearn.linear_model import Ridge\n",
    "from sklearn.linear_model import LassoCV\n",
    "from sklearn.linear_model import Lasso \n",
    "from sklearn.metrics import mean_absolute_error \n",
    "from sklearn.metrics import mean_squared_error\n",
    "from sklearn.metrics import r2_score \n",
    "from sklearn.ensemble import RandomForestRegressor\n",
    "from sklearn.ensemble  import BaggingRegressor"
   ]
  },
  {
   "cell_type": "code",
   "execution_count": 2,
   "metadata": {},
   "outputs": [],
   "source": [
    "# Set Printing Options\n",
    "font = {'family': 'serif', 'color': 'black', 'weight': 'normal', 'size': 12}"
   ]
  },
  {
   "cell_type": "code",
   "execution_count": 3,
   "metadata": {},
   "outputs": [],
   "source": [
    "pd.set_option('display.max_rows', None)\n",
    "pd.set_option('display.max_columns', None)\n",
    "pd.set_option('display.max_colwidth', 60)"
   ]
  },
  {
   "cell_type": "markdown",
   "metadata": {},
   "source": [
    "## The Data"
   ]
  },
  {
   "cell_type": "code",
   "execution_count": 4,
   "metadata": {},
   "outputs": [
    {
     "data": {
      "text/html": [
       "<div>\n",
       "<style scoped>\n",
       "    .dataframe tbody tr th:only-of-type {\n",
       "        vertical-align: middle;\n",
       "    }\n",
       "\n",
       "    .dataframe tbody tr th {\n",
       "        vertical-align: top;\n",
       "    }\n",
       "\n",
       "    .dataframe thead th {\n",
       "        text-align: right;\n",
       "    }\n",
       "</style>\n",
       "<table border=\"1\" class=\"dataframe\">\n",
       "  <thead>\n",
       "    <tr style=\"text-align: right;\">\n",
       "      <th></th>\n",
       "      <th>fips</th>\n",
       "      <th>count_plans</th>\n",
       "      <th>count_issuers</th>\n",
       "      <th>state</th>\n",
       "      <th>st</th>\n",
       "      <th>fips_st</th>\n",
       "      <th>fips_county</th>\n",
       "      <th>CBSA</th>\n",
       "      <th>CBSA_Name</th>\n",
       "      <th>CBSA_Ind</th>\n",
       "      <th>CBSA_Status</th>\n",
       "      <th>Num_Hosp2017</th>\n",
       "      <th>Pop2017</th>\n",
       "      <th>MedIncome2017</th>\n",
       "      <th>IndMarketEnroll2017</th>\n",
       "      <th>Unemployment</th>\n",
       "      <th>State Code</th>\n",
       "      <th>Pparty</th>\n",
       "      <th>Market_Reg</th>\n",
       "    </tr>\n",
       "  </thead>\n",
       "  <tbody>\n",
       "    <tr>\n",
       "      <td>0</td>\n",
       "      <td>1001</td>\n",
       "      <td>7</td>\n",
       "      <td>1</td>\n",
       "      <td>Alabama</td>\n",
       "      <td>AL</td>\n",
       "      <td>1</td>\n",
       "      <td>1</td>\n",
       "      <td>33860.0</td>\n",
       "      <td>Montgomery, AL Metro SA</td>\n",
       "      <td>1</td>\n",
       "      <td>Central</td>\n",
       "      <td>1</td>\n",
       "      <td>55504</td>\n",
       "      <td>58343</td>\n",
       "      <td>1705</td>\n",
       "      <td>3.9</td>\n",
       "      <td>AL</td>\n",
       "      <td>Republican</td>\n",
       "      <td>Federal</td>\n",
       "    </tr>\n",
       "    <tr>\n",
       "      <td>1</td>\n",
       "      <td>1003</td>\n",
       "      <td>7</td>\n",
       "      <td>1</td>\n",
       "      <td>Alabama</td>\n",
       "      <td>AL</td>\n",
       "      <td>1</td>\n",
       "      <td>3</td>\n",
       "      <td>19300.0</td>\n",
       "      <td>Daphne-Fairhope-Foley, AL Metro SA</td>\n",
       "      <td>1</td>\n",
       "      <td>Central</td>\n",
       "      <td>4</td>\n",
       "      <td>212628</td>\n",
       "      <td>56607</td>\n",
       "      <td>11367</td>\n",
       "      <td>4.0</td>\n",
       "      <td>AL</td>\n",
       "      <td>Republican</td>\n",
       "      <td>Federal</td>\n",
       "    </tr>\n",
       "    <tr>\n",
       "      <td>2</td>\n",
       "      <td>1005</td>\n",
       "      <td>7</td>\n",
       "      <td>1</td>\n",
       "      <td>Alabama</td>\n",
       "      <td>AL</td>\n",
       "      <td>1</td>\n",
       "      <td>5</td>\n",
       "      <td>21640.0</td>\n",
       "      <td>Eufaula, AL-GA Micro SA</td>\n",
       "      <td>2</td>\n",
       "      <td>Central</td>\n",
       "      <td>1</td>\n",
       "      <td>25270</td>\n",
       "      <td>32490</td>\n",
       "      <td>738</td>\n",
       "      <td>5.9</td>\n",
       "      <td>AL</td>\n",
       "      <td>Republican</td>\n",
       "      <td>Federal</td>\n",
       "    </tr>\n",
       "    <tr>\n",
       "      <td>3</td>\n",
       "      <td>1007</td>\n",
       "      <td>7</td>\n",
       "      <td>1</td>\n",
       "      <td>Alabama</td>\n",
       "      <td>AL</td>\n",
       "      <td>1</td>\n",
       "      <td>7</td>\n",
       "      <td>13820.0</td>\n",
       "      <td>Birmingham-Hoover, AL Metro SA</td>\n",
       "      <td>1</td>\n",
       "      <td>Outlying</td>\n",
       "      <td>1</td>\n",
       "      <td>22668</td>\n",
       "      <td>45795</td>\n",
       "      <td>516</td>\n",
       "      <td>4.4</td>\n",
       "      <td>AL</td>\n",
       "      <td>Republican</td>\n",
       "      <td>Federal</td>\n",
       "    </tr>\n",
       "    <tr>\n",
       "      <td>4</td>\n",
       "      <td>1009</td>\n",
       "      <td>7</td>\n",
       "      <td>1</td>\n",
       "      <td>Alabama</td>\n",
       "      <td>AL</td>\n",
       "      <td>1</td>\n",
       "      <td>9</td>\n",
       "      <td>13820.0</td>\n",
       "      <td>Birmingham-Hoover, AL Metro SA</td>\n",
       "      <td>1</td>\n",
       "      <td>Outlying</td>\n",
       "      <td>1</td>\n",
       "      <td>58013</td>\n",
       "      <td>48253</td>\n",
       "      <td>2062</td>\n",
       "      <td>4.0</td>\n",
       "      <td>AL</td>\n",
       "      <td>Republican</td>\n",
       "      <td>Federal</td>\n",
       "    </tr>\n",
       "  </tbody>\n",
       "</table>\n",
       "</div>"
      ],
      "text/plain": [
       "   fips  count_plans  count_issuers    state  st  fips_st  fips_county  \\\n",
       "0  1001            7              1  Alabama  AL        1            1   \n",
       "1  1003            7              1  Alabama  AL        1            3   \n",
       "2  1005            7              1  Alabama  AL        1            5   \n",
       "3  1007            7              1  Alabama  AL        1            7   \n",
       "4  1009            7              1  Alabama  AL        1            9   \n",
       "\n",
       "      CBSA                           CBSA_Name  CBSA_Ind CBSA_Status  \\\n",
       "0  33860.0             Montgomery, AL Metro SA         1     Central   \n",
       "1  19300.0  Daphne-Fairhope-Foley, AL Metro SA         1     Central   \n",
       "2  21640.0             Eufaula, AL-GA Micro SA         2     Central   \n",
       "3  13820.0      Birmingham-Hoover, AL Metro SA         1    Outlying   \n",
       "4  13820.0      Birmingham-Hoover, AL Metro SA         1    Outlying   \n",
       "\n",
       "   Num_Hosp2017  Pop2017  MedIncome2017  IndMarketEnroll2017  Unemployment  \\\n",
       "0             1    55504          58343                 1705           3.9   \n",
       "1             4   212628          56607                11367           4.0   \n",
       "2             1    25270          32490                  738           5.9   \n",
       "3             1    22668          45795                  516           4.4   \n",
       "4             1    58013          48253                 2062           4.0   \n",
       "\n",
       "  State Code      Pparty Market_Reg  \n",
       "0         AL  Republican    Federal  \n",
       "1         AL  Republican    Federal  \n",
       "2         AL  Republican    Federal  \n",
       "3         AL  Republican    Federal  \n",
       "4         AL  Republican    Federal  "
      ]
     },
     "execution_count": 4,
     "metadata": {},
     "output_type": "execute_result"
    }
   ],
   "source": [
    "# Set paths and file names\n",
    "\n",
    "projpath='C:\\\\Users\\\\l_gas\\\\Documents\\\\Development\\\\SpringBoard_DataScience\\\\CapstoneProj1'\n",
    "\n",
    "# Read analytic file with regional population measures and merge with party affiliation data\n",
    "plans_data = (pd.read_json(\"./plans_data.json\"))\n",
    "\n",
    "plans_data.head()\n"
   ]
  },
  {
   "cell_type": "code",
   "execution_count": 8,
   "metadata": {},
   "outputs": [
    {
     "name": "stdout",
     "output_type": "stream",
     "text": [
      "(2718, 47)\n"
     ]
    }
   ],
   "source": [
    "#X_raw = plans_data[['state', 'Pop2017', 'MedIncome2017','IndMarketEnroll2017','Num_Hosp2017',Unemployment','Pparty']]\n",
    "def label_ind (row):\n",
    "   if row['CBSA_Ind'] == 0 :\n",
    "      return 'Not a CBSA'\n",
    "   if row['CBSA_Ind'] == 1 :\n",
    "      return 'MetroCBSA'\n",
    "   if row['CBSA_Ind'] == 2 :\n",
    "      return 'MicroCBSA'\n",
    "\n",
    "cbsa_type = plans_data.apply (lambda row: label_ind(row), axis=1)\n",
    "\n",
    "X_raw = pd.DataFrame(data={'cbsa_type': cbsa_type, 'pop': plans_data.Pop2017, 'medinc': plans_data.MedIncome2017, 'enrol': plans_data.IndMarketEnroll2017,\n",
    "                            'unemp': plans_data.Unemployment, 'state': plans_data.state, 'Pparty': plans_data.Pparty, 'Issuer': plans_data.count_issuers})\n",
    "Y = plans_data[['count_plans']]\n",
    "\n",
    "# Generate dumies from categorical variables and drop one level to avoid colinearity. \n",
    "X = pd.get_dummies(X_raw)\n",
    "X = X.drop(['state_Wisconsin','cbsa_type_MetroCBSA','Pparty_Republican'],axis=1)\n",
    "print(X.shape)\n"
   ]
  },
  {
   "cell_type": "markdown",
   "metadata": {},
   "source": [
    "## Linear Regression and Cross Validation"
   ]
  },
  {
   "cell_type": "code",
   "execution_count": 10,
   "metadata": {},
   "outputs": [],
   "source": [
    "# Apply Cross Validation to the Linear Regression Fit - Explore aternative models penalizing for number of variables included\n",
    "# in the model: Ridge and Lasso regression \n",
    "\n",
    "X_train, X_test, Y_train, Y_test = train_test_split(X, Y, test_size = 0.3, random_state = 42)\n",
    "\n",
    "def model (form, score, scoref):\n",
    "    reg = form()\n",
    "    cv_scr = cross_val_score(reg, X_train, Y_train, cv=3, scoring=score).sum()/3\n",
    "    reg.fit(X_train,Y_train)\n",
    "    params = list(reg.coef_)\n",
    "    test_scr = scoref(Y_test, reg.predict(X_test))\n",
    "    return cv_scr, test_scr, params\n",
    "\n",
    "def modcomp (form, matrix1, num):\n",
    "    matrix1[num,0], matrix1[num,1], coef = model(form = form, score = 'neg_mean_squared_error', scoref = mean_squared_error)\n",
    "    matrix1[num,2], matrix1[num,3], _c = model(form = form, score = 'neg_mean_absolute_error', scoref = mean_absolute_error)\n",
    "    matrix1[num,4], matrix1[num,5], _c = model(form = form, score = 'r2', scoref = r2_score)\n",
    "    return coef\n",
    "\n",
    "cv_scr_models =  np.empty(shape=(3,6),dtype='object')\n",
    "#params = pd.DataFrame(np.empty(shape=(len(X.columns),3), dtype='object'))\n",
    "\n",
    "prms = modcomp(LinearRegression,cv_scr_models, 0)\n",
    "param1=pd.Series(prms[0],index=X.columns)\n",
    "prms = modcomp(Ridge,cv_scr_models, 1)\n",
    "param2 = pd.Series(prms[0],index=X.columns)\n",
    "prms = modcomp(Lasso,cv_scr_models, 2)\n",
    "param3 = pd.Series(prms[0],index=X.columns)\n",
    "\n",
    "params = pd.concat([param1,param2,param3],axis=1)\n",
    "params.columns=[\"LinearRegression\",\"Ridge\",\"Lasso\"]\n",
    "cv_scr_comp = pd.DataFrame(cv_scr_models,index=[\"Linear Regression\",\"Ridge Regression\", \"Lasso Regression\"],\n",
    "                           columns=[\"Cross Validation MSE\",\"Test MSE\",\"Cross Validation MAE\",\"Test MAE\",\"Cross Validation R2\",\"Test R2\"])\n"
   ]
  },
  {
   "cell_type": "code",
   "execution_count": 11,
   "metadata": {},
   "outputs": [
    {
     "name": "stdout",
     "output_type": "stream",
     "text": [
      "                  Cross Validation MSE Test MSE Cross Validation MAE Test MAE  \\\n",
      "Linear Regression             -22.8328  31.7663             -2.67228  3.05046   \n",
      "Ridge Regression              -23.7442  33.2775               -2.736  3.12086   \n",
      "Lasso Regression              -55.7455  77.2963             -5.05523  5.50651   \n",
      "\n",
      "                  Cross Validation R2   Test R2  \n",
      "Linear Regression            0.772042  0.768493  \n",
      "Ridge Regression             0.762839   0.75748  \n",
      "Lasso Regression             0.444783  0.436678  \n",
      "                      LinearRegression         Ridge         Lasso\n",
      "pop                      -8.490233e-07 -8.996359e-07  7.406267e-07\n",
      "medinc                   -5.724918e-05 -5.443724e-05  7.406267e-07\n",
      "enrol                     2.324693e-05  2.564617e-05  7.406267e-07\n",
      "unemp                    -1.203705e-01 -1.964014e-01  7.406267e-07\n",
      "Issuer                    9.925100e+00  9.787567e+00  7.406267e-07\n",
      "cbsa_type_MicroCBSA      -6.661487e-01 -7.299251e-01  7.406267e-07\n",
      "cbsa_type_Not a CBSA     -9.907235e-01 -9.906469e-01  7.406267e-07\n",
      "state_Alabama            -1.210679e+01 -7.998138e+00  7.406267e-07\n",
      "state_Alaska             -5.899188e+00 -3.707951e+00  7.406267e-07\n",
      "state_Arizona            -1.384878e+01 -8.922072e+00  7.406267e-07\n",
      "state_Arkansas           -2.054794e+01 -1.597834e+01  7.406267e-07\n",
      "state_Delaware            2.328651e+00  2.119133e+00  7.406267e-07\n",
      "state_Florida             3.915555e+00  7.709038e+00  7.406267e-07\n",
      "state_Georgia            -6.764240e+00 -2.770594e+00  7.406267e-07\n",
      "state_Hawaii              8.365104e+00  5.861178e+00  7.406267e-07\n",
      "state_Illinois           -2.512727e+00  1.487419e+00  7.406267e-07\n",
      "state_Indiana            -2.531465e+00  1.306286e+00  7.406267e-07\n",
      "state_Iowa               -1.217969e+01 -8.294977e+00  7.406267e-07\n",
      "state_Kansas             -1.638446e+01 -1.227321e+01  7.406267e-07\n",
      "state_Kentucky           -7.400539e+00 -3.341811e+00  7.406267e-07\n",
      "state_Louisiana          -6.022104e+00 -4.976430e+00  7.406267e-07\n",
      "state_Maine              -1.244082e+01 -7.797504e+00  7.406267e-07\n",
      "state_Michigan           -2.483976e+01 -2.004466e+01  7.406267e-07\n",
      "state_Mississippi        -1.388578e+01 -9.697942e+00  7.406267e-07\n",
      "state_Missouri           -7.863634e+00 -3.931426e+00  7.406267e-07\n",
      "state_Montana            -8.185120e+00 -7.231399e+00  7.406267e-07\n",
      "state_Nebraska           -1.128003e+01 -7.412166e+00  7.406267e-07\n",
      "state_Nevada             -1.392859e+01 -9.188844e+00  7.406267e-07\n",
      "state_New Hampshire      -2.290582e+01 -1.620329e+01  7.406267e-07\n",
      "state_New Jersey         -9.406615e+00 -8.069980e+00  7.406267e-07\n",
      "state_New Mexico         -3.099486e+01 -2.530377e+01  7.406267e-07\n",
      "state_North Carolina      2.951812e+00  3.484964e+00  7.406267e-07\n",
      "state_North Dakota       -1.112041e+01 -7.197917e+00  7.406267e-07\n",
      "state_Ohio               -6.383392e+00 -2.255112e+00  7.406267e-07\n",
      "state_Oklahoma           -1.252724e+01 -8.459931e+00  7.406267e-07\n",
      "state_Oregon             -7.047685e+00 -6.041940e+00  7.406267e-07\n",
      "state_Pennsylvania       -3.758065e-01  3.364606e-01  7.406267e-07\n",
      "state_South Carolina      5.015507e+00  8.703837e+00  7.406267e-07\n",
      "state_South Dakota       -1.070839e+01 -6.572720e+00  7.406267e-07\n",
      "state_Tennessee          -1.558392e+01 -1.149982e+01  7.406267e-07\n",
      "state_Texas              -1.322091e+01 -9.194214e+00  7.406267e-07\n",
      "state_Utah               -1.085894e+01 -6.550922e+00  7.406267e-07\n",
      "state_Virginia            3.735697e+00  4.214251e+00  7.406267e-07\n",
      "state_West Virginia      -9.182583e+00 -4.977430e+00  7.406267e-07\n",
      "state_Wyoming            -7.743289e+00 -3.709582e+00  7.406267e-07\n",
      "Pparty_Democratic        -1.365607e+01 -1.030376e+01  7.406267e-07\n",
      "Pparty_Independent       -5.899188e+00 -3.707951e+00  7.406267e-07\n"
     ]
    }
   ],
   "source": [
    "# Print Measures from the Cross Validation Fit, and the Fit with the Test Set\n",
    "print(cv_scr_comp)\n",
    "print(params)"
   ]
  },
  {
   "cell_type": "markdown",
   "metadata": {},
   "source": [
    "### Ensemble Methods"
   ]
  },
  {
   "cell_type": "code",
   "execution_count": 32,
   "metadata": {},
   "outputs": [
    {
     "data": {
      "text/plain": [
       "RandomForestRegressor(bootstrap=True, criterion='mse', max_depth=None,\n",
       "                      max_features='auto', max_leaf_nodes=None,\n",
       "                      min_impurity_decrease=0.0, min_impurity_split=None,\n",
       "                      min_samples_leaf=1, min_samples_split=2,\n",
       "                      min_weight_fraction_leaf=0.0, n_estimators=10,\n",
       "                      n_jobs=None, oob_score=False, random_state=42, verbose=0,\n",
       "                      warm_start=False)"
      ]
     },
     "execution_count": 32,
     "metadata": {},
     "output_type": "execute_result"
    }
   ],
   "source": [
    "# Fit Random Forest Regression\n",
    "\n",
    "# Train the Model\n",
    "X_train, X_test, Y_train, Y_test = train_test_split(X.to_numpy(), Y.to_numpy(), test_size = 0.3, random_state = 42)\n",
    "\n",
    "rf_mod = RandomForestRegressor(n_estimators = 10, random_state = 42)\n",
    "rf_mod.fit(X_train,Y_train.ravel())"
   ]
  },
  {
   "cell_type": "code",
   "execution_count": 33,
   "metadata": {},
   "outputs": [
    {
     "name": "stdout",
     "output_type": "stream",
     "text": [
      "Mean Absolute Error: 0.94 %\n"
     ]
    }
   ],
   "source": [
    "# Use the Model to Predict the Test set and Evaluate the fit\n",
    "\n",
    "Y_test_pred = rf_mod.predict(X_test)\n",
    "\n",
    "# Calculate the errors\n",
    "errors = Y_test_pred - Y_test\n",
    "errors_perc = errors/Y_test\n",
    "# Print the mean absolute error (MAE) in number of plans unit and percentage\n",
    "print('Mean Absolute Error:', round(np.mean(abs(errors_perc)),2), \"%\")"
   ]
  },
  {
   "cell_type": "code",
   "execution_count": 34,
   "metadata": {},
   "outputs": [
    {
     "data": {
      "image/png": "[encoded data removed]",
      "text/plain": [
       "<Figure size 432x288 with 1 Axes>"
      ]
     },
     "metadata": {
      "needs_background": "light"
     },
     "output_type": "display_data"
    }
   ],
   "source": [
    "# distribution of errors - as they come\n",
    "_ = sns.distplot(errors, hist = False, kde = True,\n",
    "                 kde_kws = {'shade': True, 'linewidth': 3})\n",
    "_ = plt.title(\"Predicted Error\")\n",
    "_ = plt.xlabel(\"Number of Plans\")"
   ]
  },
  {
   "cell_type": "code",
   "execution_count": 31,
   "metadata": {},
   "outputs": [
    {
     "name": "stdout",
     "output_type": "stream",
     "text": [
      "[[  0.    22.01   2.32 ...  12.59  16.97  21.29]\n",
      " [-21.     1.01 -18.68 ...  -8.41  -4.03   0.29]\n",
      " [ -2.    20.01   0.32 ...  10.59  14.97  19.29]\n",
      " ...\n",
      " [-11.    11.01  -8.68 ...   1.59   5.97  10.29]\n",
      " [-14.     8.01 -11.68 ...  -1.41   2.97   7.29]\n",
      " [-23.    -0.99 -20.68 ... -10.41  -6.03  -1.71]]\n",
      "(816, 816)\n",
      "[[False  True False ...  True  True  True]\n",
      " [ True False  True ...  True  True False]\n",
      " [False  True False ...  True  True  True]\n",
      " ...\n",
      " [ True  True  True ... False  True  True]\n",
      " [ True  True  True ... False False  True]\n",
      " [ True False  True ...  True  True False]]\n",
      "816\n"
     ]
    }
   ],
   "source": [
    "# Consider an error larger than 3 (3 plan options) to be a large error (20% of the mean)\n",
    "lrg_error=abs(errors)>3\n",
    "print(errors)\n",
    "print(errors.shape)\n",
    "print(lrg_error)\n",
    "print(len(sum(lrg_error)))"
   ]
  },
  {
   "cell_type": "code",
   "execution_count": 36,
   "metadata": {},
   "outputs": [
    {
     "data": {
      "text/plain": [
       "BaggingRegressor(base_estimator=None, bootstrap=True, bootstrap_features=False,\n",
       "                 max_features=1.0, max_samples=1.0, n_estimators=10,\n",
       "                 n_jobs=None, oob_score=False, random_state=42, verbose=0,\n",
       "                 warm_start=False)"
      ]
     },
     "execution_count": 36,
     "metadata": {},
     "output_type": "execute_result"
    }
   ],
   "source": [
    "# Bagging Regressor\n",
    "br_mod=BaggingRegressor(n_estimators = 10, random_state = 42)\n",
    "br_mod.fit(X_train,Y_train.ravel())"
   ]
  },
  {
   "cell_type": "code",
   "execution_count": 41,
   "metadata": {},
   "outputs": [
    {
     "name": "stdout",
     "output_type": "stream",
     "text": [
      "Mean Absolute Error: 0.94 %\n"
     ]
    }
   ],
   "source": [
    "# Use the Model to Predict the Test set and Evaluate the fit\n",
    "\n",
    "Y_test_predbr = br_mod.predict(X_test)\n",
    "\n",
    "# Calculate the errors\n",
    "errors_br = Y_test_predbr - Y_test\n",
    "errors_br_perc = errors_br/Y_test\n",
    "# Print the mean absolute error (MAE) in number of plans unit and percentage\n",
    "print('Mean Absolute Error:', round(np.mean(abs(errors_br_perc)),2), \"%\")"
   ]
  },
  {
   "cell_type": "code",
   "execution_count": 43,
   "metadata": {},
   "outputs": [
    {
     "name": "stdout",
     "output_type": "stream",
     "text": [
      "(816, 816)\n",
      "(1902, 47)\n"
     ]
    }
   ],
   "source": [
    "print(errors_br.shape)\n",
    "print(X_train.shape)\n"
   ]
  },
  {
   "cell_type": "code",
   "execution_count": null,
   "metadata": {},
   "outputs": [],
   "source": []
  }
 ],
 "metadata": {
  "kernelspec": {
   "display_name": "Python 3",
   "language": "python",
   "name": "python3"
  },
  "language_info": {
   "codemirror_mode": {
    "name": "ipython",
    "version": 3
   },
   "file_extension": ".py",
   "mimetype": "text/x-python",
   "name": "python",
   "nbconvert_exporter": "python",
   "pygments_lexer": "ipython3",
   "version": "3.7.3"
  }
 },
 "nbformat": 4,
 "nbformat_minor": 4
}
