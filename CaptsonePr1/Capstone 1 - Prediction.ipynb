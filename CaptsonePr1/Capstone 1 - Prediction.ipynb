{
 "cells": [
  {
   "cell_type": "markdown",
   "metadata": {},
   "source": [
    "# Predicting the Number of Health Plan Options in a Given County"
   ]
  },
  {
   "cell_type": "code",
   "execution_count": 1,
   "metadata": {},
   "outputs": [],
   "source": [
    "# Import libraries \n",
    "import pandas as pd\n",
    "import numpy as np\n",
    "import seaborn as sns\n",
    "import matplotlib.pyplot as plt\n",
    "import sklearn\n",
    "from sklearn.model_selection import train_test_split\n",
    "from sklearn.model_selection import cross_val_score\n",
    "from sklearn.model_selection import cross_validate\n",
    "from sklearn.linear_model import LinearRegression\n",
    "from sklearn.linear_model import Ridge\n",
    "from sklearn.linear_model import LassoCV\n",
    "from sklearn.linear_model import Lasso \n",
    "from sklearn.metrics import mean_absolute_error \n",
    "from sklearn.metrics import mean_squared_error\n",
    "from sklearn.metrics import r2_score \n",
    "from sklearn.ensemble import RandomForestRegressor\n",
    "from sklearn.ensemble  import BaggingRegressor"
   ]
  },
  {
   "cell_type": "code",
   "execution_count": 2,
   "metadata": {},
   "outputs": [],
   "source": [
    "# Set Printing Options\n",
    "font = {'family': 'serif', 'color': 'black', 'weight': 'normal', 'size': 12}"
   ]
  },
  {
   "cell_type": "code",
   "execution_count": 3,
   "metadata": {},
   "outputs": [],
   "source": [
    "pd.set_option('display.max_rows', None)\n",
    "pd.set_option('display.max_columns', None)\n",
    "pd.set_option('display.max_colwidth', 60)"
   ]
  },
  {
   "cell_type": "markdown",
   "metadata": {},
   "source": [
    "## The Data"
   ]
  },
  {
   "cell_type": "code",
   "execution_count": 4,
   "metadata": {},
   "outputs": [
    {
     "data": {
      "text/html": [
       "<div>\n",
       "<style scoped>\n",
       "    .dataframe tbody tr th:only-of-type {\n",
       "        vertical-align: middle;\n",
       "    }\n",
       "\n",
       "    .dataframe tbody tr th {\n",
       "        vertical-align: top;\n",
       "    }\n",
       "\n",
       "    .dataframe thead th {\n",
       "        text-align: right;\n",
       "    }\n",
       "</style>\n",
       "<table border=\"1\" class=\"dataframe\">\n",
       "  <thead>\n",
       "    <tr style=\"text-align: right;\">\n",
       "      <th></th>\n",
       "      <th>fips</th>\n",
       "      <th>count_plans</th>\n",
       "      <th>count_issuers</th>\n",
       "      <th>state</th>\n",
       "      <th>st</th>\n",
       "      <th>fips_st</th>\n",
       "      <th>fips_county</th>\n",
       "      <th>CBSA</th>\n",
       "      <th>CBSA_Name</th>\n",
       "      <th>CBSA_Ind</th>\n",
       "      <th>CBSA_Status</th>\n",
       "      <th>Num_Hosp2017</th>\n",
       "      <th>Pop2017</th>\n",
       "      <th>MedIncome2017</th>\n",
       "      <th>IndMarketEnroll2017</th>\n",
       "      <th>Unemployment</th>\n",
       "      <th>State Code</th>\n",
       "      <th>Pparty</th>\n",
       "      <th>Market_Reg</th>\n",
       "      <th>fips_str</th>\n",
       "    </tr>\n",
       "  </thead>\n",
       "  <tbody>\n",
       "    <tr>\n",
       "      <td>0</td>\n",
       "      <td>1001</td>\n",
       "      <td>7</td>\n",
       "      <td>1</td>\n",
       "      <td>Alabama</td>\n",
       "      <td>AL</td>\n",
       "      <td>1</td>\n",
       "      <td>1</td>\n",
       "      <td>33860.0</td>\n",
       "      <td>Montgomery, AL Metro SA</td>\n",
       "      <td>1</td>\n",
       "      <td>Central</td>\n",
       "      <td>1</td>\n",
       "      <td>55504</td>\n",
       "      <td>58343</td>\n",
       "      <td>1705</td>\n",
       "      <td>3.9</td>\n",
       "      <td>AL</td>\n",
       "      <td>Republican</td>\n",
       "      <td>Federal</td>\n",
       "      <td>1001</td>\n",
       "    </tr>\n",
       "    <tr>\n",
       "      <td>1</td>\n",
       "      <td>1003</td>\n",
       "      <td>7</td>\n",
       "      <td>1</td>\n",
       "      <td>Alabama</td>\n",
       "      <td>AL</td>\n",
       "      <td>1</td>\n",
       "      <td>3</td>\n",
       "      <td>19300.0</td>\n",
       "      <td>Daphne-Fairhope-Foley, AL Metro SA</td>\n",
       "      <td>1</td>\n",
       "      <td>Central</td>\n",
       "      <td>4</td>\n",
       "      <td>212628</td>\n",
       "      <td>56607</td>\n",
       "      <td>11367</td>\n",
       "      <td>4.0</td>\n",
       "      <td>AL</td>\n",
       "      <td>Republican</td>\n",
       "      <td>Federal</td>\n",
       "      <td>1003</td>\n",
       "    </tr>\n",
       "    <tr>\n",
       "      <td>2</td>\n",
       "      <td>1005</td>\n",
       "      <td>7</td>\n",
       "      <td>1</td>\n",
       "      <td>Alabama</td>\n",
       "      <td>AL</td>\n",
       "      <td>1</td>\n",
       "      <td>5</td>\n",
       "      <td>21640.0</td>\n",
       "      <td>Eufaula, AL-GA Micro SA</td>\n",
       "      <td>2</td>\n",
       "      <td>Central</td>\n",
       "      <td>1</td>\n",
       "      <td>25270</td>\n",
       "      <td>32490</td>\n",
       "      <td>738</td>\n",
       "      <td>5.9</td>\n",
       "      <td>AL</td>\n",
       "      <td>Republican</td>\n",
       "      <td>Federal</td>\n",
       "      <td>1005</td>\n",
       "    </tr>\n",
       "    <tr>\n",
       "      <td>3</td>\n",
       "      <td>1007</td>\n",
       "      <td>7</td>\n",
       "      <td>1</td>\n",
       "      <td>Alabama</td>\n",
       "      <td>AL</td>\n",
       "      <td>1</td>\n",
       "      <td>7</td>\n",
       "      <td>13820.0</td>\n",
       "      <td>Birmingham-Hoover, AL Metro SA</td>\n",
       "      <td>1</td>\n",
       "      <td>Outlying</td>\n",
       "      <td>1</td>\n",
       "      <td>22668</td>\n",
       "      <td>45795</td>\n",
       "      <td>516</td>\n",
       "      <td>4.4</td>\n",
       "      <td>AL</td>\n",
       "      <td>Republican</td>\n",
       "      <td>Federal</td>\n",
       "      <td>1007</td>\n",
       "    </tr>\n",
       "    <tr>\n",
       "      <td>4</td>\n",
       "      <td>1009</td>\n",
       "      <td>7</td>\n",
       "      <td>1</td>\n",
       "      <td>Alabama</td>\n",
       "      <td>AL</td>\n",
       "      <td>1</td>\n",
       "      <td>9</td>\n",
       "      <td>13820.0</td>\n",
       "      <td>Birmingham-Hoover, AL Metro SA</td>\n",
       "      <td>1</td>\n",
       "      <td>Outlying</td>\n",
       "      <td>1</td>\n",
       "      <td>58013</td>\n",
       "      <td>48253</td>\n",
       "      <td>2062</td>\n",
       "      <td>4.0</td>\n",
       "      <td>AL</td>\n",
       "      <td>Republican</td>\n",
       "      <td>Federal</td>\n",
       "      <td>1009</td>\n",
       "    </tr>\n",
       "  </tbody>\n",
       "</table>\n",
       "</div>"
      ],
      "text/plain": [
       "   fips  count_plans  count_issuers    state  st  fips_st  fips_county  \\\n",
       "0  1001            7              1  Alabama  AL        1            1   \n",
       "1  1003            7              1  Alabama  AL        1            3   \n",
       "2  1005            7              1  Alabama  AL        1            5   \n",
       "3  1007            7              1  Alabama  AL        1            7   \n",
       "4  1009            7              1  Alabama  AL        1            9   \n",
       "\n",
       "      CBSA                           CBSA_Name  CBSA_Ind CBSA_Status  \\\n",
       "0  33860.0             Montgomery, AL Metro SA         1     Central   \n",
       "1  19300.0  Daphne-Fairhope-Foley, AL Metro SA         1     Central   \n",
       "2  21640.0             Eufaula, AL-GA Micro SA         2     Central   \n",
       "3  13820.0      Birmingham-Hoover, AL Metro SA         1    Outlying   \n",
       "4  13820.0      Birmingham-Hoover, AL Metro SA         1    Outlying   \n",
       "\n",
       "   Num_Hosp2017  Pop2017  MedIncome2017  IndMarketEnroll2017  Unemployment  \\\n",
       "0             1    55504          58343                 1705           3.9   \n",
       "1             4   212628          56607                11367           4.0   \n",
       "2             1    25270          32490                  738           5.9   \n",
       "3             1    22668          45795                  516           4.4   \n",
       "4             1    58013          48253                 2062           4.0   \n",
       "\n",
       "  State Code      Pparty Market_Reg  fips_str  \n",
       "0         AL  Republican    Federal      1001  \n",
       "1         AL  Republican    Federal      1003  \n",
       "2         AL  Republican    Federal      1005  \n",
       "3         AL  Republican    Federal      1007  \n",
       "4         AL  Republican    Federal      1009  "
      ]
     },
     "execution_count": 4,
     "metadata": {},
     "output_type": "execute_result"
    }
   ],
   "source": [
    "# Set paths and file names\n",
    "\n",
    "projpath='C:\\\\Users\\\\l_gas\\\\Documents\\\\Development\\\\SpringBoard_DataScience\\\\CapstoneProj1'\n",
    "\n",
    "# Read analytic file with regional population measures and merge with party affiliation data\n",
    "plans_data = (pd.read_json(\"./plans_data.json\"))\n",
    "\n",
    "plans_data.head()"
   ]
  },
  {
   "cell_type": "code",
   "execution_count": 5,
   "metadata": {},
   "outputs": [],
   "source": [
    "## SET THE MATICES TO FIT A MODEL FOR NUMBER OF PLANS AVAILABLE AT THE COUNTY LEVEL\n",
    "def label_ind (row):\n",
    "   if row['CBSA_Ind'] == 0 :\n",
    "      return 'Not a CBSA'\n",
    "   if row['CBSA_Ind'] == 1 :\n",
    "      return 'MetroCBSA'\n",
    "   if row['CBSA_Ind'] == 2 :\n",
    "      return 'MicroCBSA'\n",
    "\n",
    "cbsa_type = plans_data.apply (lambda row: label_ind(row), axis=1)\n",
    "\n",
    "XP_raw = pd.DataFrame(data={'cbsa_type': cbsa_type, 'pop': plans_data.Pop2017, 'medinc': plans_data.MedIncome2017, 'enrol': plans_data.IndMarketEnroll2017,\n",
    "                            'unemp': plans_data.Unemployment, 'state': plans_data.state, 'Pparty': plans_data.Pparty, 'hosp': plans_data.Num_Hosp2017,'Issuer': plans_data.count_issuers})\n",
    "YP = plans_data[['count_plans']]\n",
    "\n",
    "# Generate dumies from categorical variables and drop one level to avoid colinearity. \n",
    "XP = pd.get_dummies(XP_raw)\n",
    "XP = XP.drop(['state_Texas','cbsa_type_MetroCBSA','Pparty_Republican'],axis=1)\n"
   ]
  },
  {
   "cell_type": "markdown",
   "metadata": {},
   "source": [
    "## PREDICTING NUMBER OF PLAN OPTIONS AVAILABLE IN A MARKET\n",
    "\n",
    "### Testing Linear Regression Using a Cross-validation Approach"
   ]
  },
  {
   "cell_type": "markdown",
   "metadata": {},
   "source": [
    "We use a linear regression approach to predict the number of plans faced by consumers in the individual health insurance market. We explore using a model penalizing the number of explanatory variables used, like the Ridge regression or Lasso regression. We split the model into a training and test set. We use the training set to evaluate the three alternatives using cross validation with 3-folds. Then we use the test set to evaluate the selected model fit."
   ]
  },
  {
   "cell_type": "code",
   "execution_count": 6,
   "metadata": {},
   "outputs": [
    {
     "name": "stdout",
     "output_type": "stream",
     "text": [
      "Table 2\n",
      "CROSS VALIDATION - EVALUATION ON THE TRAINING SET\n",
      "LINEAR REGRESSION\n",
      "Mean Squared Error: 22.84  (+/- 9.86)\n",
      "Mean Absolute Error: 2.68  (+/- 0.12)\n",
      "R2: 0.77  (+/- 0.02)\n",
      "RIDGE REGRESSION\n",
      "Mean Squared Error: 23.02  (+/- 11.14)\n",
      "Mean Absolute Error: 2.68  (+/- 0.14)\n",
      "R2: 0.77  (+/- 0.02)\n",
      "LASSO REGRESSION\n",
      "Mean Squared Error: 55.75  (+/- 25.28)\n",
      "Mean Absolute Error: 5.06  (+/- 0.37)\n",
      "R2: 0.44  (+/- 0.03)\n"
     ]
    }
   ],
   "source": [
    "# Apply Cross Validation to the Linear Regression Fit - Explore aternative models penalizing for number of variables included\n",
    "# in the model: Ridge and Lasso regression \n",
    "\n",
    "XP_train, XP_test, YP_train, YP_test = train_test_split(XP.to_numpy(), YP.to_numpy(), test_size = 0.3, random_state = 42)\n",
    "\n",
    "#XP_train, XP_test, YP_train, YP_test = train_test_split(XP, YP, test_size = 0.3, random_state = 42)\n",
    "\n",
    "print(\"Table 2\")\n",
    "print(\"CROSS VALIDATION - EVALUATION ON THE TRAINING SET\")\n",
    "print(\"LINEAR REGRESSION\")\n",
    "reg=LinearRegression()\n",
    "cv_scr = cross_validate(reg, XP_train, YP_train, cv=3, scoring=['r2','neg_mean_absolute_error','neg_mean_squared_error'])\n",
    "print(\"Mean Squared Error: %0.2f  (+/- %0.2f)\" % (cv_scr['test_neg_mean_squared_error'].mean()*-1,2*cv_scr['test_neg_mean_squared_error'].std()))\n",
    "print(\"Mean Absolute Error: %0.2f  (+/- %0.2f)\" % (cv_scr['test_neg_mean_absolute_error'].mean()*-1,2*cv_scr['test_neg_mean_absolute_error'].std()))\n",
    "print(\"R2: %0.2f  (+/- %0.2f)\" % (cv_scr['test_r2'].mean(),2*cv_scr['test_r2'].std()))\n",
    "\n",
    "print(\"RIDGE REGRESSION\")\n",
    "rdgreg=Ridge()\n",
    "cv_scr_rdg = cross_validate(rdgreg, XP_train, YP_train, cv=3, scoring=['r2','neg_mean_absolute_error','neg_mean_squared_error'])\n",
    "print(\"Mean Squared Error: %0.2f  (+/- %0.2f)\" % (cv_scr_rdg['test_neg_mean_squared_error'].mean()*-1,2*cv_scr_rdg['test_neg_mean_squared_error'].std()))\n",
    "print(\"Mean Absolute Error: %0.2f  (+/- %0.2f)\" % (cv_scr_rdg['test_neg_mean_absolute_error'].mean()*-1,2*cv_scr_rdg['test_neg_mean_absolute_error'].std()))\n",
    "print(\"R2: %0.2f  (+/- %0.2f)\" % (cv_scr_rdg['test_r2'].mean(),2*cv_scr_rdg['test_r2'].std()))\n",
    "\n",
    "print(\"LASSO REGRESSION\")\n",
    "lssreg=Lasso()\n",
    "cv_scr_lss = cross_validate(lssreg, XP_train, YP_train, cv=3, scoring=['r2','neg_mean_absolute_error','neg_mean_squared_error'])\n",
    "print(\"Mean Squared Error: %0.2f  (+/- %0.2f)\" % (cv_scr_lss['test_neg_mean_squared_error'].mean()*-1,2*cv_scr_lss['test_neg_mean_squared_error'].std()))\n",
    "print(\"Mean Absolute Error: %0.2f  (+/- %0.2f)\" % (cv_scr_lss['test_neg_mean_absolute_error'].mean()*-1,2*cv_scr_lss['test_neg_mean_absolute_error'].std()))\n",
    "print(\"R2: %0.2f  (+/- %0.2f)\" % (cv_scr_lss['test_r2'].mean(),2*cv_scr_lss['test_r2'].std()))\n"
   ]
  },
  {
   "cell_type": "markdown",
   "metadata": {},
   "source": [
    "For a linear regression model we can use the R2 and the mean absolute error (MAE) to evaluate the fit. The R2 shows the proportion of the dependent variable variance explained by the model. When comparing two models, a higher R2 implies the model has better predictive power. The MAE is a measure of the model's predicted power. A lower absolute error implies the model has better predictive power. \n",
    "\n",
    "When comparing the three linear regression options tested, the Lasso regression clearly doesn't do a good job and the other two have very similar scores (within the 95% confidence interval). The average MSE obtained with the linear fit is slightly better than the Ridge regression (though not statistically different), and since the linear regression is widely used, the first inclination is to chose the linear regression model.\n",
    "\n",
    "An additional test can be run for the selected model using the test set we extracted before. Besides the R2 and the mean absolute error, we can also construct an accuracy measure based on an absolute desired maximum error. In this case we are trying to predict the number of plans offered, with an average level of 14.5. We can set the maximum error at 3 plans, about 20% of the mean.  "
   ]
  },
  {
   "cell_type": "code",
   "execution_count": 7,
   "metadata": {},
   "outputs": [
    {
     "name": "stdout",
     "output_type": "stream",
     "text": [
      "Table 3\n",
      "LINEAR REGRESSION EVALUATION ON TEST SET\n",
      "Mean Squared Error 31.71\n",
      "Mean Absolute Error 3.05\n",
      "R2: 0.77\n",
      "Percent of counties with an absolute error larger than 3: 31.25\n"
     ]
    }
   ],
   "source": [
    "reg.fit(XP_train,YP_train)\n",
    "print('Table 3')\n",
    "print(\"LINEAR REGRESSION EVALUATION ON TEST SET\")\n",
    "print(\"Mean Squared Error %0.2f\" % mean_squared_error(YP_test, reg.predict(XP_test)))\n",
    "print(\"Mean Absolute Error %0.2f\" % mean_absolute_error(YP_test, reg.predict(XP_test)))\n",
    "print(\"R2: %0.2f\" % r2_score(YP_test, reg.predict(XP_test)))\n",
    "large_error = abs(YP_test-reg.predict(XP_test))>3\n",
    "perc_lrgerror = large_error.sum()/len(large_error)*100\n",
    "print(\"Percent of counties with an absolute error larger than 3: %0.2f\" % perc_lrgerror)"
   ]
  },
  {
   "cell_type": "code",
   "execution_count": 8,
   "metadata": {},
   "outputs": [
    {
     "name": "stdout",
     "output_type": "stream",
     "text": [
      "FINAL FIT USING FULL DATA SET\n",
      "Mean Squared Error 23.61\n",
      "Mean Absolute Error 2.74\n",
      "R2: 0.79\n",
      "Counties with an absolute error larger than 3: 29.66 %\n"
     ]
    }
   ],
   "source": [
    "print(\"FINAL FIT USING FULL DATA SET\")\n",
    "reg.fit(XP,YP)\n",
    "print(\"Mean Squared Error %0.2f\" % mean_squared_error(YP, reg.predict(XP)))\n",
    "print(\"Mean Absolute Error %0.2f\" % mean_absolute_error(YP, reg.predict(XP)))\n",
    "print(\"R2: %0.2f\" % r2_score(YP, reg.predict(XP)))\n",
    "large_error = abs(YP_test-reg.predict(XP_test))>3\n",
    "perc_lrgerror = large_error.sum()/len(large_error)*100\n",
    "print(\"Counties with an absolute error larger than 3: %0.2f\" % perc_lrgerror,\"%\")"
   ]
  },
  {
   "cell_type": "code",
   "execution_count": 9,
   "metadata": {},
   "outputs": [
    {
     "name": "stdout",
     "output_type": "stream",
     "text": [
      "pop                     -0.000004\n",
      "medinc                  -0.000059\n",
      "enrol                    0.000043\n",
      "unemp                   -0.087184\n",
      "hosp                     0.120328\n",
      "Issuer                  10.217068\n",
      "cbsa_type_MicroCBSA     -0.561440\n",
      "cbsa_type_Not a CBSA    -1.249342\n",
      "state_Alabama            1.117663\n",
      "state_Alaska             0.725460\n",
      "state_Arizona           -0.099578\n",
      "state_Arkansas          -8.081260\n",
      "state_Delaware           4.200008\n",
      "state_Florida           17.886096\n",
      "state_Georgia            6.496211\n",
      "state_Hawaii             9.692978\n",
      "state_Illinois          10.670186\n",
      "state_Indiana           10.462930\n",
      "state_Iowa               1.230461\n",
      "state_Kansas            -3.318220\n",
      "state_Kentucky           5.739134\n",
      "state_Louisiana         -5.172143\n",
      "state_Maine              0.487600\n",
      "state_Michigan         -11.993148\n",
      "state_Mississippi       -0.657040\n",
      "state_Missouri           5.682006\n",
      "state_Montana           -7.319835\n",
      "state_Nebraska           2.328895\n",
      "state_Nevada            -0.569130\n",
      "state_New Hampshire     -8.454595\n",
      "state_New Jersey        -8.487414\n",
      "state_New Mexico       -18.478664\n",
      "state_North Carolina     4.827621\n",
      "state_North Dakota       2.247652\n",
      "state_Ohio               5.636755\n",
      "state_Oklahoma           0.826926\n",
      "state_Oregon            -5.565676\n",
      "state_Pennsylvania       0.725811\n",
      "state_South Carolina    18.328949\n",
      "state_South Dakota       2.199082\n",
      "state_Tennessee         -2.296323\n",
      "state_Utah               2.795210\n",
      "state_Virginia           5.121677\n",
      "state_West Virginia      4.058663\n",
      "state_Wisconsin         14.485330\n",
      "state_Wyoming            5.516356\n",
      "Pparty_Democratic       -1.976974\n",
      "Pparty_Independent       0.725460\n",
      "dtype: float64\n"
     ]
    }
   ],
   "source": [
    "params = pd.Series(list(reg.coef_)[0],index=XP.columns)\n",
    "print(params)"
   ]
  },
  {
   "cell_type": "markdown",
   "metadata": {},
   "source": [
    "## Using Decision Trees and Ensemble Methods\n",
    "\n",
    "### Single Decision Tree"
   ]
  },
  {
   "cell_type": "code",
   "execution_count": 10,
   "metadata": {},
   "outputs": [
    {
     "data": {
      "text/plain": [
       "DecisionTreeRegressor(criterion='mse', max_depth=None, max_features=None,\n",
       "                      max_leaf_nodes=5, min_impurity_decrease=0.0,\n",
       "                      min_impurity_split=None, min_samples_leaf=1,\n",
       "                      min_samples_split=2, min_weight_fraction_leaf=0.0,\n",
       "                      presort=False, random_state=None, splitter='best')"
      ]
     },
     "execution_count": 10,
     "metadata": {},
     "output_type": "execute_result"
    }
   ],
   "source": [
    "# Fit Single Decision Tree\n",
    "\n",
    "from sklearn import tree\n",
    "#from sklearn.tree import export_graphviz\n",
    "#import IPython, graphviz, re, math\n",
    "\n",
    "# Train the Model\n",
    "XP_train, XP_test, YP_train, YP_test = train_test_split(XP.to_numpy(), YP.to_numpy(), test_size = 0.3, random_state = 11)\n",
    "\n",
    "dt_mod = tree.DecisionTreeRegressor(max_leaf_nodes=5)\n",
    "dt_mod.fit(XP_train,YP_train)"
   ]
  },
  {
   "cell_type": "code",
   "execution_count": 11,
   "metadata": {},
   "outputs": [
    {
     "name": "stdout",
     "output_type": "stream",
     "text": [
      "['DecisionTreeClassifier', 'DecisionTreeRegressor', 'ExtraTreeClassifier', 'ExtraTreeRegressor', '__all__', '__builtins__', '__cached__', '__doc__', '__file__', '__loader__', '__name__', '__package__', '__path__', '__spec__', '_criterion', '_reingold_tilford', '_splitter', '_tree', '_utils', 'export', 'export_graphviz', 'export_text', 'plot_tree', 'tree']\n"
     ]
    },
    {
     "data": {
      "text/plain": [
       "[Text(167.4, 195.696, 'Issuer <= 1.5\\nentropy = 105.659\\nsamples = 1902\\nvalue = 14.356'),\n",
       " Text(111.60000000000001, 152.208, 'entropy = 20.194\\nsamples = 1058\\nvalue = 8.929'),\n",
       " Text(223.20000000000002, 152.208, 'state_Florida <= 0.5\\nentropy = 129.582\\nsamples = 844\\nvalue = 21.16'),\n",
       " Text(167.4, 108.72, 'Issuer <= 4.5\\nentropy = 89.028\\nsamples = 816\\nvalue = 20.205'),\n",
       " Text(111.60000000000001, 65.232, 'state_Wisconsin <= 0.5\\nentropy = 68.977\\nsamples = 780\\nvalue = 19.406'),\n",
       " Text(55.800000000000004, 21.744, 'entropy = 47.089\\nsamples = 738\\nvalue = 18.642'),\n",
       " Text(167.4, 21.744, 'entropy = 263.044\\nsamples = 42\\nvalue = 32.833'),\n",
       " Text(223.20000000000002, 65.232, 'entropy = 210.528\\nsamples = 36\\nvalue = 37.5'),\n",
       " Text(279.0, 108.72, 'entropy = 509.786\\nsamples = 28\\nvalue = 49.0')]"
      ]
     },
     "execution_count": 11,
     "metadata": {},
     "output_type": "execute_result"
    },
    {
     "data": {
      "image/png": "[encoded data removed]",
      "text/plain": [
       "<Figure size 432x288 with 1 Axes>"
      ]
     },
     "metadata": {
      "needs_background": "light"
     },
     "output_type": "display_data"
    }
   ],
   "source": [
    "print(dir(tree))\n",
    "tree.plot_tree(dt_mod,feature_names=XP.columns)"
   ]
  },
  {
   "cell_type": "code",
   "execution_count": 12,
   "metadata": {},
   "outputs": [
    {
     "name": "stdout",
     "output_type": "stream",
     "text": [
      "R2 0.55\n",
      "Mean Squared Error 56.55\n",
      "Mean Absolute Error 5.12\n",
      "Counties with an absolute error of 3 or more: 57 %\n"
     ]
    }
   ],
   "source": [
    "# Use the Model to Predict the Test set and Evaluate the fit\n",
    "YP_test_pred = dt_mod.predict(XP_test)\n",
    "\n",
    "# Calculate the errors\n",
    "errors = YP_test_pred.reshape(len(YP_test_pred),1) - YP_test\n",
    "\n",
    "# Print R2\n",
    "print(\"R2 %0.2f\" % dt_mod.score(XP_test, YP_test))\n",
    "\n",
    "# Print the mean squared error (MSE) in number of plans unit\n",
    "print(\"Mean Squared Error %0.2f\" % (errors**2).mean())\n",
    "print(\"Mean Absolute Error %0.2f\" % abs(errors).mean())\n",
    "\n",
    "# Consider an error larger than 3 (3 plan options) to be a large error (20% of the mean)\n",
    "lrg_error = abs(errors)>=3\n",
    "perc_lrg_errors = sum(lrg_error)/len(lrg_error)*100\n",
    "print('Counties with an absolute error of 3 or more: %2.0f' % perc_lrg_errors,\"%\")\n"
   ]
  },
  {
   "cell_type": "markdown",
   "metadata": {},
   "source": [
    "### Random Forest Regression"
   ]
  },
  {
   "cell_type": "code",
   "execution_count": 13,
   "metadata": {},
   "outputs": [
    {
     "data": {
      "text/plain": [
       "RandomForestRegressor(bootstrap=True, criterion='mse', max_depth=None,\n",
       "                      max_features='auto', max_leaf_nodes=None,\n",
       "                      min_impurity_decrease=0.0, min_impurity_split=None,\n",
       "                      min_samples_leaf=1, min_samples_split=2,\n",
       "                      min_weight_fraction_leaf=0.0, n_estimators=100,\n",
       "                      n_jobs=None, oob_score=False, random_state=42, verbose=0,\n",
       "                      warm_start=False)"
      ]
     },
     "execution_count": 13,
     "metadata": {},
     "output_type": "execute_result"
    }
   ],
   "source": [
    "# Fit Random Forest Regression\n",
    "\n",
    "# Train the Model\n",
    "XP_train, XP_test, YP_train, YP_test = train_test_split(XP.to_numpy(), YP.to_numpy(), test_size = 0.3, random_state = 11)\n",
    "\n",
    "rf_mod = RandomForestRegressor(n_estimators = 100, max_features='auto', random_state = 42)\n",
    "rf_mod.fit(XP_train,YP_train.ravel())"
   ]
  },
  {
   "cell_type": "code",
   "execution_count": 14,
   "metadata": {},
   "outputs": [
    {
     "name": "stdout",
     "output_type": "stream",
     "text": [
      "unemp                   0.026461\n",
      "state_Indiana           0.027222\n",
      "state_South Carolina    0.029047\n",
      "state_Illinois          0.029833\n",
      "enrol                   0.031522\n",
      "medinc                  0.031569\n",
      "pop                     0.035251\n",
      "state_Wisconsin         0.054816\n",
      "state_Florida           0.116378\n",
      "Issuer                  0.500139\n",
      "dtype: float64\n"
     ]
    },
    {
     "data": {
      "image/png": "[encoded data removed]",
      "text/plain": [
       "<Figure size 468x324 with 1 Axes>"
      ]
     },
     "metadata": {
      "needs_background": "light"
     },
     "output_type": "display_data"
    },
    {
     "data": {
      "text/plain": [
       "<Figure size 360x360 with 0 Axes>"
      ]
     },
     "metadata": {},
     "output_type": "display_data"
    }
   ],
   "source": [
    "#modelname.feature_importance_\n",
    "y_fi = pd.Series(rf_mod.feature_importances_,index=XP.columns)\n",
    "y_fi_top10 = y_fi.sort_values()[-10:]\n",
    "print(y_fi_top10)\n",
    "#plot\n",
    "fig, ax = plt.subplots() \n",
    "width = 0.4 # the width of the bars \n",
    "ind = np.arange(len(y_fi_top10)) # the x locations for the groups\n",
    "ax.barh(ind, y_fi_top10, width, color='green')\n",
    "ax.set_yticks(ind+width/10)\n",
    "ax.set_yticklabels(y_fi_top10.index, minor=False)\n",
    "plt.title('Figure 9 -Top 10 Features - Importance in RandomForest Classifier')\n",
    "plt.xlabel('Relative importance')\n",
    "plt.ylabel('feature') \n",
    "plt.figure(figsize=(5,5))\n",
    "fig.set_size_inches(6.5, 4.5, forward=True)\n",
    "plt.savefig(\"In Depth-RandomForestFeatures.png\")\n"
   ]
  },
  {
   "cell_type": "code",
   "execution_count": 15,
   "metadata": {},
   "outputs": [
    {
     "name": "stdout",
     "output_type": "stream",
     "text": [
      "Table 4\n",
      "RANDOM FOREST EVALUATION ON TEST SET\n",
      "R2 0.86\n",
      "Mean Squared Error 17.46\n",
      "Mean Absolute Error 2.06\n",
      "Counties with an absolute error of 3 or more: 23 %\n"
     ]
    }
   ],
   "source": [
    "# Use the Model to Predict the Test set and Evaluate the fit\n",
    "\n",
    "YP_test_pred = rf_mod.predict(XP_test)\n",
    "# Calculate the errors\n",
    "errors_rf = YP_test_pred.reshape(len(YP_test_pred),1) - YP_test\n",
    "\n",
    "print(\"Table 4\")\n",
    "print('RANDOM FOREST EVALUATION ON TEST SET')\n",
    "# Print R2\n",
    "print(\"R2 %0.2f\" % rf_mod.score(XP_test, YP_test))\n",
    "\n",
    "# Print the mean squared and absolute error (MSE and MAE) in number of plans unit\n",
    "print(\"Mean Squared Error %0.2f\" % (errors_rf**2).mean())\n",
    "print(\"Mean Absolute Error %0.2f\" % abs(errors_rf).mean())\n",
    "\n",
    "# Consider an error larger than 3 (3 plan options) to be a large error (20% of the mean)\n",
    "lrg_error_rf = abs(errors_rf)>=3\n",
    "perc_lrg_errors_rf = sum(lrg_error_rf)/len(lrg_error_rf)*100\n",
    "print('Counties with an absolute error of 3 or more: %2.0f' % perc_lrg_errors_rf,\"%\")"
   ]
  },
  {
   "cell_type": "code",
   "execution_count": 16,
   "metadata": {},
   "outputs": [
    {
     "data": {
      "image/png": "[encoded data removed]",
      "text/plain": [
       "<Figure size 432x288 with 1 Axes>"
      ]
     },
     "metadata": {
      "needs_background": "light"
     },
     "output_type": "display_data"
    }
   ],
   "source": [
    "# distribution of errors\n",
    "_ = sns.distplot(errors_rf, hist = False, kde = True,\n",
    "                 kde_kws = {'shade': True, 'linewidth': 3})\n",
    "_ = plt.title(\"Figure 7\")\n",
    "_ = plt.xlabel(\"Predicted Error (# of Plans\")\n",
    "\n",
    "plt.savefig(\"In Depth-RandomForestError.png\")\n"
   ]
  },
  {
   "cell_type": "code",
   "execution_count": null,
   "metadata": {},
   "outputs": [],
   "source": []
  }
 ],
 "metadata": {
  "kernelspec": {
   "display_name": "Python 3",
   "language": "python",
   "name": "python3"
  },
  "language_info": {
   "codemirror_mode": {
    "name": "ipython",
    "version": 3
   },
   "file_extension": ".py",
   "mimetype": "text/x-python",
   "name": "python",
   "nbconvert_exporter": "python",
   "pygments_lexer": "ipython3",
   "version": "3.7.3"
  }
 },
 "nbformat": 4,
 "nbformat_minor": 4
}
