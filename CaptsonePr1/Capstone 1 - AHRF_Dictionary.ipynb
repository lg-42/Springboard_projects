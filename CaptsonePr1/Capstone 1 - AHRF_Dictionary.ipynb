{
 "cells": [
  {
   "cell_type": "markdown",
   "metadata": {},
   "source": [
    "## Create a Data Dictionary for the 2018-2019 Area Health Resource File (AHRF)"
   ]
  },
  {
   "cell_type": "markdown",
   "metadata": {},
   "source": [
    "This program creates a dictionary to search variables and read data from the AHRF file. The AHRF data comes in ASCII format with fixed column width and no variable names. Variable names, labels and their position in the data file can be extracted from either an Excel file or a SAS program supplied together with the ASCII file. We use the SAS program to generate a csv file with ready to read variable descriptions and information.\n",
    "\n",
    "The source data can be downloaded from: https://data.hrsa.gov/data/download - Area Health Resources Files (AHRF) 2018-2019. US Department of Health and Human Services, Health Resources and Services Administration, Bureau of Health Workforce, Rockville, MD.\n"
   ]
  },
  {
   "cell_type": "code",
   "execution_count": 1,
   "metadata": {},
   "outputs": [],
   "source": [
    "# Import relevant tools\n",
    "import pandas as pd\n",
    "from collections import Counter\n",
    "from collections import defaultdict\n",
    "import matplotlib.pyplot as plt\n",
    "import sys\n",
    "import matplotlib"
   ]
  },
  {
   "cell_type": "code",
   "execution_count": 2,
   "metadata": {},
   "outputs": [],
   "source": [
    "# Set paths and file names\n",
    "datapath='C:\\\\Users\\\\l_gas\\\\Documents\\\\Development\\\\SpringBoard_DataScience\\\\HealthInsuranceData'\n",
    "head2019= datapath + \"\\\\AHRF\\\\AHRF_2018-2019\\\\DOC\\\\AHRF2018-19.sas\""
   ]
  },
  {
   "cell_type": "code",
   "execution_count": 3,
   "metadata": {},
   "outputs": [],
   "source": [
    "# Read the SAS code - create a dataframe\n",
    "ahrf19hd=open(head2019)\n",
    "varlist19=ahrf19hd.readlines()\n",
    "vardf19=pd.DataFrame(varlist19).copy()\n"
   ]
  },
  {
   "cell_type": "code",
   "execution_count": 4,
   "metadata": {},
   "outputs": [
    {
     "name": "stdout",
     "output_type": "stream",
     "text": [
      "                                                   0\n",
      "0                                       data ahrf;\\n\n",
      "1            infile 'c:\\ahrf2019.asc' lrecl=31706;\\n\n",
      "2                                            input\\n\n",
      "3                                                 \\n\n",
      "4                        /*  AHRF2018-19 SAS FD */\\n\n",
      "5                                                 \\n\n",
      "6       @00001    f00001   $  01.  /*Blank       ...\n",
      "7       @00002    f00002   $  05.  /*Header - FIP...\n",
      "8       @00007    f00003   $  05.  /*Entity of Fi...\n",
      "9       @00012    f00004   $  20.  /*Secondary En...\n",
      "Shape of input file: (14305, 1)\n",
      "Number of variables listed: 7147\n"
     ]
    }
   ],
   "source": [
    "# Keep only the lines with information on how to read each variable in the data file(line starts with @ referencing starting position)\n",
    "print(vardf19.head(10))\n",
    "print(\"Shape of input file:\",vardf19.shape)\n",
    "locf19=vardf19[vardf19[0].astype(str).str.contains(\"@\")]\n",
    "\n",
    "# Keep only the lines with variable labels (the line starts with the variable name and the first letter is always an f)\n",
    "labf19=vardf19[vardf19[0].astype(str).str[0]==\"f\"]\n",
    "print(\"Number of variables listed:\",len(labf19))"
   ]
  },
  {
   "cell_type": "code",
   "execution_count": 5,
   "metadata": {},
   "outputs": [],
   "source": [
    "# Each line in locf19 and labf19 represents one variable\n",
    "# Clean location information\n",
    "locf19 = locf19[0].str.split(n=3,expand=True)\n",
    "locf19.columns=['Pos_Start','Name','Type','Rest']\n",
    "locf19['String'] = locf19.Type==\"$\"\n",
    "locf19['Pos_Start']=locf19['Pos_Start'].map(lambda x: x.lstrip('@'))\n",
    "locf19['Pos_Start']=locf19['Pos_Start'].astype(int)\n",
    "locf19 = locf19.reset_index()\n",
    "locf19 = locf19.drop(['index','Type','Rest'],axis=1)\n",
    "locend=locf19['Pos_Start'][1:].reset_index().drop(['index'],axis=1)-1\n",
    "locend = locend.rename(columns={\"Pos_Start\": \"Pos_End\"})\n",
    "locf19 = pd.concat([locf19,locend],axis=1)\n"
   ]
  },
  {
   "cell_type": "code",
   "execution_count": 6,
   "metadata": {},
   "outputs": [],
   "source": [
    "# Clean label information and add to variable name and location data\n",
    "labf19 = labf19[0].str.split(\"\\t\",n=1,expand=True)\n",
    "labf192 =  labf19[1].str.split(\"\\\"\",n=2,expand=True)\n",
    "labf19 = pd.concat([labf19[0],labf192[1]],axis=1)\n",
    "labf19.columns=[\"Name\",\"Label\"]\n",
    "locf19 = pd.merge(left=locf19,right=labf19, on=\"Name\")\n"
   ]
  },
  {
   "cell_type": "code",
   "execution_count": 7,
   "metadata": {},
   "outputs": [],
   "source": [
    "# Save dictionary file\n",
    "\n",
    "locf19.to_csv('AHRF2019_dict.csv')"
   ]
  },
  {
   "cell_type": "code",
   "execution_count": 8,
   "metadata": {},
   "outputs": [
    {
     "data": {
      "text/html": [
       "<div>\n",
       "<style scoped>\n",
       "    .dataframe tbody tr th:only-of-type {\n",
       "        vertical-align: middle;\n",
       "    }\n",
       "\n",
       "    .dataframe tbody tr th {\n",
       "        vertical-align: top;\n",
       "    }\n",
       "\n",
       "    .dataframe thead th {\n",
       "        text-align: right;\n",
       "    }\n",
       "</style>\n",
       "<table border=\"1\" class=\"dataframe\">\n",
       "  <thead>\n",
       "    <tr style=\"text-align: right;\">\n",
       "      <th></th>\n",
       "      <th>Pos_Start</th>\n",
       "      <th>Name</th>\n",
       "      <th>String</th>\n",
       "      <th>Pos_End</th>\n",
       "      <th>Label</th>\n",
       "    </tr>\n",
       "  </thead>\n",
       "  <tbody>\n",
       "    <tr>\n",
       "      <td>0</td>\n",
       "      <td>1</td>\n",
       "      <td>f00001</td>\n",
       "      <td>True</td>\n",
       "      <td>1.0</td>\n",
       "      <td>Blank</td>\n",
       "    </tr>\n",
       "    <tr>\n",
       "      <td>1</td>\n",
       "      <td>2</td>\n",
       "      <td>f00002</td>\n",
       "      <td>True</td>\n",
       "      <td>6.0</td>\n",
       "      <td>Header - FIPS St and Cty Code</td>\n",
       "    </tr>\n",
       "    <tr>\n",
       "      <td>2</td>\n",
       "      <td>7</td>\n",
       "      <td>f00003</td>\n",
       "      <td>True</td>\n",
       "      <td>11.0</td>\n",
       "      <td>Entity of File</td>\n",
       "    </tr>\n",
       "    <tr>\n",
       "      <td>3</td>\n",
       "      <td>12</td>\n",
       "      <td>f00004</td>\n",
       "      <td>True</td>\n",
       "      <td>31.0</td>\n",
       "      <td>Secondary Entity Of File</td>\n",
       "    </tr>\n",
       "    <tr>\n",
       "      <td>4</td>\n",
       "      <td>32</td>\n",
       "      <td>f00005</td>\n",
       "      <td>True</td>\n",
       "      <td>35.0</td>\n",
       "      <td>Date of File</td>\n",
       "    </tr>\n",
       "  </tbody>\n",
       "</table>\n",
       "</div>"
      ],
      "text/plain": [
       "   Pos_Start    Name  String  Pos_End                          Label\n",
       "0          1  f00001    True      1.0                          Blank\n",
       "1          2  f00002    True      6.0  Header - FIPS St and Cty Code\n",
       "2          7  f00003    True     11.0                 Entity of File\n",
       "3         12  f00004    True     31.0       Secondary Entity Of File\n",
       "4         32  f00005    True     35.0                   Date of File"
      ]
     },
     "execution_count": 8,
     "metadata": {},
     "output_type": "execute_result"
    }
   ],
   "source": [
    "locf19.head()"
   ]
  },
  {
   "cell_type": "code",
   "execution_count": null,
   "metadata": {},
   "outputs": [],
   "source": []
  }
 ],
 "metadata": {
  "kernelspec": {
   "display_name": "Python 3",
   "language": "python",
   "name": "python3"
  },
  "language_info": {
   "codemirror_mode": {
    "name": "ipython",
    "version": 3
   },
   "file_extension": ".py",
   "mimetype": "text/x-python",
   "name": "python",
   "nbconvert_exporter": "python",
   "pygments_lexer": "ipython3",
   "version": "3.7.3"
  }
 },
 "nbformat": 4,
 "nbformat_minor": 4
}
