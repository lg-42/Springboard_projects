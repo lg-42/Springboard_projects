{
 "cells": [
  {
   "cell_type": "code",
   "execution_count": 1,
   "metadata": {},
   "outputs": [],
   "source": [
    "import pandas as pd\n",
    "from collections import Counter\n",
    "from collections import defaultdict\n",
    "import matplotlib.pyplot as plt\n",
    "import sys\n",
    "import matplotlib"
   ]
  },
  {
   "cell_type": "code",
   "execution_count": 2,
   "metadata": {},
   "outputs": [
    {
     "name": "stdout",
     "output_type": "stream",
     "text": [
      "Python version 3.7.3 (default, Mar 27 2019, 17:13:21) [MSC v.1915 64 bit (AMD64)]\n",
      "Pandas version 0.25.1\n",
      "Matplotlib version 3.0.3\n"
     ]
    }
   ],
   "source": [
    "print('Python version ' + sys.version)\n",
    "print('Pandas version ' + pd.__version__)\n",
    "print('Matplotlib version ' + matplotlib.__version__)"
   ]
  },
  {
   "cell_type": "code",
   "execution_count": 3,
   "metadata": {},
   "outputs": [],
   "source": [
    "plans_2018 = pd.read_csv(r'C:\\Users\\l_gas\\Documents\\Development\\SpringBoard_DataScience\\HealthInsuranceData\\IndivMarketPlans\\QHP_PY2018_Medi-_Indi-_Land.csv',\n",
    "                   low_memory=False, usecols=['State Code','FIPS County Code','County Name',\n",
    "'Metal Level','Issuer Name','HIOS Issuer ID','Plan ID (Standard Component)','Plan Marketing Name','Plan Type',\n",
    "'Standardized Plan Design','Rating Area','Child Only Offering','Source','Accreditation',\n",
    "'Adult Dental ','Child Dental ','EHB Percent of Total Premium',\n",
    "'Premium Scenarios','Premium Child Age 0-14','Premium Child Age 18','Premium Adult Individual Age 21',\n",
    "'Premium Adult Individual Age 27','Premium Adult Individual Age 30 ','Premium Adult Individual Age 40 ',\n",
    "'Premium Adult Individual Age 50 ','Premium Adult Individual Age 60 '])"
   ]
  },
  {
   "cell_type": "code",
   "execution_count": 4,
   "metadata": {
    "scrolled": true
   },
   "outputs": [],
   "source": [
    "#Describe the data in plans_2018\n",
    "#plans_2018[:3]\n",
    "#plans_2018.describe()"
   ]
  },
  {
   "cell_type": "code",
   "execution_count": 9,
   "metadata": {},
   "outputs": [
    {
     "name": "stdout",
     "output_type": "stream",
     "text": [
      "Number of FIPS:\n",
      "2722\n",
      "\n",
      "List of FIPS with higher number of distinct plan ids:\n",
      "[(12117, 119), (12127, 111), (12009, 104), (55105, 102), (12035, 92), (39151, 85), (55001, 80), (55057, 80), (55045, 75), (55025, 70), (55111, 70), (55027, 65), (55049, 65), (55055, 65), (55065, 65), (55021, 65), (39019, 61), (12061, 58), (26065, 57), (12031, 56)]\n"
     ]
    }
   ],
   "source": [
    "fips_numofplans=Counter(plans_2018['FIPS County Code'])\n",
    "print(\"Number of FIPS:\")\n",
    "print(len(fips_numofplans))\n",
    "print(\"\\nList of FIPS with higher number of distinct plan ids:\")\n",
    "print(fips_numofplans.most_common(20))"
   ]
  },
  {
   "cell_type": "code",
   "execution_count": 10,
   "metadata": {},
   "outputs": [
    {
     "name": "stdout",
     "output_type": "stream",
     "text": [
      "Number of distinct plan ids:\n",
      "2085\n"
     ]
    }
   ],
   "source": [
    "print(\"Number of distinct plan ids:\")\n",
    "print(len(Counter(plans_2018['Plan ID (Standard Component)'])))"
   ]
  },
  {
   "cell_type": "code",
   "execution_count": 11,
   "metadata": {},
   "outputs": [
    {
     "name": "stdout",
     "output_type": "stream",
     "text": [
      "List of different metal levels and count of plans under each level:\n",
      "Counter({'Silver': 16899, 'Bronze': 9211, 'Gold': 6847, 'Expanded Bronze': 3008, 'Catastrophic': 2819, 'Platinum': 564})\n"
     ]
    }
   ],
   "source": [
    "# Count number of lines under each plan metal level\n",
    "metal_cnt=Counter(plans_2018['Metal Level'])\n",
    "print(\"List of different metal levels and count of plans under each level:\")\n",
    "print(metal_cnt)"
   ]
  },
  {
   "cell_type": "code",
   "execution_count": 12,
   "metadata": {},
   "outputs": [
    {
     "name": "stdout",
     "output_type": "stream",
     "text": [
      "Counter({'Not Applicable': 36296, 'Design 1': 2493, 'Design 2': 334, 'Design 3': 216, 'Design 4': 9})\n"
     ]
    }
   ],
   "source": [
    "# Count number of lines under each Standardized Plan Design level - explore levels\n",
    "std_plandesign=Counter(plans_2018['Standardized Plan Design'])\n",
    "print(std_plandesign)"
   ]
  },
  {
   "cell_type": "code",
   "execution_count": 8,
   "metadata": {},
   "outputs": [
    {
     "data": {
      "text/plain": [
       "FIPS County Code                    30091.161489\n",
       "HIOS Issuer ID                      48602.577726\n",
       "Premium Scenarios                            NaN\n",
       "Premium Child Age 0-14                319.524433\n",
       "Premium Child Age 18                  379.222345\n",
       "Premium Adult Individual Age 21       419.579730\n",
       "Premium Adult Individual Age 27       441.132539\n",
       "Premium Adult Individual Age 30       477.277932\n",
       "Premium Adult Individual Age 40       537.053577\n",
       "Premium Adult Individual Age 50       750.778925\n",
       "Premium Adult Individual Age 60      1139.920950\n",
       "dtype: float64"
      ]
     },
     "execution_count": 8,
     "metadata": {},
     "output_type": "execute_result"
    }
   ],
   "source": [
    "plans_2018[plans_2018['Metal Level']=='Silver'].mean()"
   ]
  },
  {
   "cell_type": "code",
   "execution_count": 27,
   "metadata": {},
   "outputs": [
    {
     "data": {
      "text/plain": [
       "pandas.core.frame.DataFrame"
      ]
     },
     "execution_count": 27,
     "metadata": {},
     "output_type": "execute_result"
    }
   ],
   "source": [
    "type(plans_2018.loc[:,['FIPS County Code','Plan ID (Standard Component)']])"
   ]
  },
  {
   "cell_type": "code",
   "execution_count": 10,
   "metadata": {},
   "outputs": [
    {
     "name": "stdout",
     "output_type": "stream",
     "text": [
      "39\n"
     ]
    }
   ],
   "source": [
    "print(len(Counter(plans_2018['State Code'])))"
   ]
  },
  {
   "cell_type": "code",
   "execution_count": 11,
   "metadata": {},
   "outputs": [
    {
     "data": {
      "text/plain": [
       "Counter({'NCQA': 16235, nan: 20021, 'URAC': 3092})"
      ]
     },
     "execution_count": 11,
     "metadata": {},
     "output_type": "execute_result"
    }
   ],
   "source": [
    "Counter(plans_2018['Accreditation'])"
   ]
  },
  {
   "cell_type": "code",
   "execution_count": null,
   "metadata": {},
   "outputs": [],
   "source": []
  }
 ],
 "metadata": {
  "kernelspec": {
   "display_name": "Python 3",
   "language": "python",
   "name": "python3"
  },
  "language_info": {
   "codemirror_mode": {
    "name": "ipython",
    "version": 3
   },
   "file_extension": ".py",
   "mimetype": "text/x-python",
   "name": "python",
   "nbconvert_exporter": "python",
   "pygments_lexer": "ipython3",
   "version": "3.7.3"
  }
 },
 "nbformat": 4,
 "nbformat_minor": 2
}
